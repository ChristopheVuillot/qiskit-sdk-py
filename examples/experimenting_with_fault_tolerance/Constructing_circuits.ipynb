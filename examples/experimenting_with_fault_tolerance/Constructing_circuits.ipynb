{
 "cells": [
  {
   "cell_type": "code",
   "execution_count": 31,
   "metadata": {
    "collapsed": true,
    "deletable": true,
    "editable": true
   },
   "outputs": [],
   "source": [
    "import time\n",
    "import random\n",
    "import numpy as np\n",
    "import importlib\n",
    "\n",
    "import sys\n",
    "sys.path.append(\"../../\")"
   ]
  },
  {
   "cell_type": "code",
   "execution_count": 32,
   "metadata": {
    "collapsed": false,
    "deletable": true,
    "editable": true
   },
   "outputs": [],
   "source": [
    "from qiskit import QuantumProgram, QuantumCircuit\n",
    "import Qconfig"
   ]
  },
  {
   "cell_type": "code",
   "execution_count": 33,
   "metadata": {
    "collapsed": true
   },
   "outputs": [],
   "source": [
    "import tools.Experiment_tools as exptool"
   ]
  },
  {
   "cell_type": "code",
   "execution_count": 61,
   "metadata": {
    "collapsed": false,
    "deletable": true,
    "editable": true
   },
   "outputs": [
    {
     "data": {
      "text/plain": [
       "<module 'tools.Experiment_tools' from '/home/christophe/Work/Programming/IBMQE/qiskit-sdk-py/examples/experimenting_with_fault_tolerance/tools/Experiment_tools.py'>"
      ]
     },
     "execution_count": 61,
     "metadata": {},
     "output_type": "execute_result"
    }
   ],
   "source": [
    "importlib.reload(exptool)"
   ]
  },
  {
   "cell_type": "code",
   "execution_count": 35,
   "metadata": {
    "collapsed": false,
    "deletable": true,
    "editable": true
   },
   "outputs": [],
   "source": [
    "qprogram = QuantumProgram()\n",
    "qprogram.set_api(Qconfig.APItoken, Qconfig.config[\"url\"])"
   ]
  },
  {
   "cell_type": "code",
   "execution_count": 36,
   "metadata": {
    "collapsed": false,
    "deletable": true,
    "editable": true
   },
   "outputs": [
    {
     "data": {
      "text/plain": [
       "['ibmqx4',\n",
       " 'ibmqx2',\n",
       " 'ibmqx5',\n",
       " 'ibmqx_qasm_simulator',\n",
       " 'local_qasm_simulator',\n",
       " 'local_unitary_simulator']"
      ]
     },
     "execution_count": 36,
     "metadata": {},
     "output_type": "execute_result"
    }
   ],
   "source": [
    "qprogram.available_backends()"
   ]
  },
  {
   "cell_type": "code",
   "execution_count": 37,
   "metadata": {
    "collapsed": false,
    "deletable": true,
    "editable": true
   },
   "outputs": [
    {
     "data": {
      "text/plain": [
       "{'available': True, 'backend': 'ibmqx4', 'busy': False, 'pending_jobs': 38}"
      ]
     },
     "execution_count": 37,
     "metadata": {},
     "output_type": "execute_result"
    }
   ],
   "source": [
    "qprogram.get_backend_status(\"ibmqx4\")"
   ]
  },
  {
   "cell_type": "code",
   "execution_count": 38,
   "metadata": {
    "collapsed": false,
    "deletable": true,
    "editable": true
   },
   "outputs": [
    {
     "data": {
      "text/plain": [
       "{'basis_gates': 'SU2+CNOT',\n",
       " 'chip_name': 'Raven',\n",
       " 'coupling_map': [[1, 0], [2, 0], [2, 1], [2, 4], [3, 2], [3, 4]],\n",
       " 'description': '5 qubit transmon bowtie chip 3',\n",
       " 'n_qubits': 5,\n",
       " 'name': 'ibmqx4',\n",
       " 'online_date': '2017-09-18T11:00:00.000Z',\n",
       " 'simulator': False,\n",
       " 'url': 'https://ibm.biz/qiskit-ibmqx4',\n",
       " 'version': '1'}"
      ]
     },
     "execution_count": 38,
     "metadata": {},
     "output_type": "execute_result"
    }
   ],
   "source": [
    "config = qprogram.get_backend_configuration(\"ibmqx4\",list_format=True)\n",
    "config"
   ]
  },
  {
   "cell_type": "code",
   "execution_count": 39,
   "metadata": {
    "collapsed": true,
    "deletable": true,
    "editable": true
   },
   "outputs": [],
   "source": [
    "n = config['n_qubits']\n",
    "q = qprogram.create_quantum_register(\"q\",n)\n",
    "c = qprogram.create_classical_register(\"c\",n)"
   ]
  },
  {
   "cell_type": "code",
   "execution_count": 40,
   "metadata": {
    "collapsed": false,
    "deletable": true,
    "editable": true
   },
   "outputs": [
    {
     "name": "stdout",
     "output_type": "stream",
     "text": [
      "176\n",
      "245\n"
     ]
    }
   ],
   "source": [
    "circuit_names = exptool.all_circuits(qprogram,config['coupling_map'])\n",
    "print(len(circuit_names))\n",
    "print(len(qprogram.get_circuit_names()))"
   ]
  },
  {
   "cell_type": "code",
   "execution_count": 41,
   "metadata": {
    "collapsed": false,
    "deletable": true,
    "editable": true
   },
   "outputs": [
    {
     "name": "stdout",
     "output_type": "stream",
     "text": [
      "OPENQASM 2.0;\n",
      "include \"qelib1.inc\";\n",
      "qreg q[5];\n",
      "creg c[5];\n",
      "x q[3];\n",
      "h q[3];\n",
      "h q[4];\n",
      "h q[4];\n",
      "cx q[3],q[4];\n",
      "h q[4];\n",
      "x q[3];\n",
      "measure q[0] -> c[0];\n",
      "measure q[1] -> c[1];\n",
      "measure q[2] -> c[2];\n",
      "measure q[3] -> c[3];\n",
      "measure q[4] -> c[4];\n",
      "\n"
     ]
    }
   ],
   "source": [
    "print(qprogram.get_circuit(\"bMX2-CZ-HHS-X1|00>[3, 4]\").qasm())"
   ]
  },
  {
   "cell_type": "code",
   "execution_count": 45,
   "metadata": {
    "collapsed": false,
    "deletable": true,
    "editable": true
   },
   "outputs": [],
   "source": [
    "rand_perm_names = np.random.permutation(circuit_names)\n",
    "batches = [list(rand_perm_names[50*j:50*(j+1)]) for j in range(0,1+int(len(circuit_names)/50))]\n",
    "minibatch = list(rand_perm_names[0:3])\n",
    "\n",
    "compiled_qobj_list = [qprogram.compile(batch, \n",
    "                                       backend='ibmqx4', \n",
    "                                       config=None,\n",
    "                                       silent=False, \n",
    "                                       basis_gates=None, \n",
    "                                       coupling_map=None, \n",
    "                                       initial_layout=None, \n",
    "                                       shots=8192, \n",
    "                                       max_credits=5, \n",
    "                                       seed=None) for batch in batches]\n",
    "compiled_minibatch = qprogram.compile(minibatch, \n",
    "                                      backend='ibmqx4', \n",
    "                                      config=None,\n",
    "                                      silent=False, \n",
    "                                      basis_gates=None, \n",
    "                                      coupling_map=None, \n",
    "                                      initial_layout=None, \n",
    "                                      shots=8192, \n",
    "                                      max_credits=5, \n",
    "                                      seed=None)"
   ]
  },
  {
   "cell_type": "code",
   "execution_count": 46,
   "metadata": {
    "collapsed": false,
    "deletable": true,
    "editable": true
   },
   "outputs": [
    {
     "name": "stdout",
     "output_type": "stream",
     "text": [
      "Running on remote backend ibmqx4 with job id: e921f199770355bd43e7c4ec8a396e46\n",
      "Running on remote backend ibmqx4 with job id: 4d0e6e0128b1ed5e7be4f95dbc73f636\n",
      "Running on remote backend ibmqx4 with job id: 0afa0edee445e7b6e97640893c27fda8\n",
      "Running on remote backend ibmqx4 with job id: d39cd195770f855c252029ee8a409607\n",
      "status = RUNNING (300 seconds)\n",
      "status = RUNNING (300 seconds)\n",
      "status = RUNNING (300 seconds)\n",
      "status = RUNNING (300 seconds)\n",
      "status = RUNNING (300 seconds)\n",
      "status = RUNNING (300 seconds)\n",
      "status = RUNNING (300 seconds)\n",
      "status = RUNNING (300 seconds)\n",
      "status = RUNNING (600 seconds)\n",
      "status = RUNNING (600 seconds)\n",
      "status = RUNNING (600 seconds)\n",
      "status = RUNNING (600 seconds)\n",
      "status = RUNNING (600 seconds)\n",
      "status = RUNNING (600 seconds)\n",
      "status = RUNNING (600 seconds)\n",
      "status = RUNNING (600 seconds)\n",
      "status = RUNNING (900 seconds)\n",
      "status = RUNNING (900 seconds)\n",
      "status = RUNNING (900 seconds)\n",
      "status = RUNNING (900 seconds)\n",
      "status = RUNNING (900 seconds)\n",
      "status = RUNNING (900 seconds)\n",
      "status = RUNNING (900 seconds)\n",
      "status = RUNNING (900 seconds)\n",
      "status = RUNNING (1200 seconds)\n",
      "status = RUNNING (1200 seconds)\n",
      "status = RUNNING (1200 seconds)\n",
      "status = RUNNING (1200 seconds)\n",
      "status = RUNNING (1200 seconds)\n",
      "status = RUNNING (1200 seconds)\n",
      "status = RUNNING (1200 seconds)\n",
      "status = RUNNING (1200 seconds)\n",
      "status = RUNNING (1500 seconds)\n",
      "status = RUNNING (1500 seconds)\n",
      "status = RUNNING (1500 seconds)\n",
      "status = RUNNING (1500 seconds)\n",
      "status = RUNNING (1500 seconds)\n",
      "status = RUNNING (1500 seconds)\n",
      "status = RUNNING (1500 seconds)\n",
      "status = RUNNING (1500 seconds)\n",
      "status = RUNNING (1800 seconds)\n",
      "status = RUNNING (1800 seconds)\n",
      "status = RUNNING (1800 seconds)\n",
      "status = RUNNING (1800 seconds)\n",
      "status = RUNNING (1800 seconds)\n",
      "status = RUNNING (1800 seconds)\n",
      "status = RUNNING (1800 seconds)\n",
      "status = RUNNING (1800 seconds)\n",
      "status = RUNNING (2100 seconds)\n",
      "status = RUNNING (2100 seconds)\n",
      "status = RUNNING (2100 seconds)\n",
      "status = RUNNING (2100 seconds)\n",
      "status = RUNNING (2100 seconds)\n",
      "status = RUNNING (2100 seconds)\n",
      "status = RUNNING (2100 seconds)\n",
      "status = RUNNING (2100 seconds)\n",
      "status = RUNNING (2400 seconds)\n",
      "status = RUNNING (2400 seconds)\n",
      "status = RUNNING (2400 seconds)\n",
      "status = RUNNING (2400 seconds)\n",
      "status = RUNNING (2400 seconds)\n",
      "status = RUNNING (2400 seconds)\n",
      "status = RUNNING (2400 seconds)\n",
      "status = RUNNING (2400 seconds)\n",
      "status = RUNNING (2700 seconds)\n",
      "status = RUNNING (2700 seconds)\n",
      "status = RUNNING (2700 seconds)\n",
      "status = RUNNING (2700 seconds)\n",
      "status = RUNNING (2700 seconds)\n",
      "status = RUNNING (2700 seconds)\n",
      "status = RUNNING (2700 seconds)\n",
      "status = RUNNING (2700 seconds)\n",
      "status = RUNNING (3000 seconds)\n",
      "status = RUNNING (3000 seconds)\n",
      "status = RUNNING (3000 seconds)\n",
      "status = RUNNING (3000 seconds)\n",
      "status = RUNNING (3000 seconds)\n",
      "status = RUNNING (3000 seconds)\n",
      "status = RUNNING (3000 seconds)\n",
      "status = RUNNING (3000 seconds)\n",
      "status = RUNNING (3300 seconds)\n",
      "status = RUNNING (3300 seconds)\n",
      "status = RUNNING (3300 seconds)\n",
      "status = RUNNING (3300 seconds)\n",
      "status = RUNNING (3300 seconds)\n",
      "status = RUNNING (3300 seconds)\n",
      "status = RUNNING (3300 seconds)\n",
      "status = RUNNING (3300 seconds)\n",
      "status = RUNNING (3600 seconds)\n",
      "status = RUNNING (3600 seconds)\n",
      "status = RUNNING (3600 seconds)\n",
      "status = RUNNING (3600 seconds)\n",
      "status = RUNNING (3600 seconds)\n",
      "status = RUNNING (3600 seconds)\n",
      "status = RUNNING (3600 seconds)\n",
      "status = RUNNING (3600 seconds)\n",
      "status = RUNNING (3900 seconds)\n",
      "status = RUNNING (3900 seconds)\n",
      "status = RUNNING (3900 seconds)\n",
      "status = RUNNING (3900 seconds)\n",
      "status = RUNNING (3900 seconds)\n",
      "status = RUNNING (3900 seconds)\n",
      "status = RUNNING (3900 seconds)\n",
      "status = RUNNING (3900 seconds)\n",
      "status = RUNNING (4200 seconds)\n",
      "status = RUNNING (4200 seconds)\n",
      "status = RUNNING (4200 seconds)\n",
      "status = RUNNING (4200 seconds)\n",
      "status = RUNNING (4200 seconds)\n",
      "status = RUNNING (4200 seconds)\n",
      "status = RUNNING (4200 seconds)\n",
      "status = RUNNING (4200 seconds)\n",
      "status = RUNNING (4500 seconds)\n",
      "status = RUNNING (4500 seconds)\n",
      "status = RUNNING (4500 seconds)\n",
      "status = RUNNING (4500 seconds)\n",
      "status = RUNNING (4500 seconds)\n",
      "status = RUNNING (4500 seconds)\n",
      "status = RUNNING (4500 seconds)\n",
      "status = RUNNING (4500 seconds)\n",
      "status = RUNNING (4800 seconds)\n",
      "status = RUNNING (4800 seconds)\n",
      "status = RUNNING (4800 seconds)\n",
      "status = RUNNING (4800 seconds)\n",
      "status = RUNNING (4800 seconds)\n",
      "status = RUNNING (4800 seconds)\n",
      "status = RUNNING (4800 seconds)\n",
      "status = RUNNING (4800 seconds)\n",
      "status = RUNNING (5100 seconds)\n",
      "status = RUNNING (5100 seconds)\n",
      "status = RUNNING (5100 seconds)\n",
      "status = RUNNING (5100 seconds)\n",
      "status = RUNNING (5100 seconds)\n",
      "status = RUNNING (5100 seconds)\n",
      "status = RUNNING (5100 seconds)\n",
      "status = RUNNING (5100 seconds)\n",
      "status = RUNNING (5400 seconds)\n",
      "status = RUNNING (5400 seconds)\n",
      "status = RUNNING (5400 seconds)\n",
      "status = RUNNING (5400 seconds)\n",
      "status = RUNNING (5400 seconds)\n",
      "status = RUNNING (5400 seconds)\n",
      "status = RUNNING (5400 seconds)\n",
      "status = RUNNING (5400 seconds)\n",
      "status = RUNNING (5700 seconds)\n",
      "status = RUNNING (5700 seconds)\n",
      "status = RUNNING (5700 seconds)\n",
      "status = RUNNING (5700 seconds)\n",
      "status = RUNNING (5700 seconds)\n",
      "status = RUNNING (5700 seconds)\n",
      "status = RUNNING (5700 seconds)\n",
      "status = RUNNING (5700 seconds)\n",
      "status = RUNNING (6000 seconds)\n",
      "status = RUNNING (6000 seconds)\n",
      "status = RUNNING (6000 seconds)\n",
      "status = RUNNING (6000 seconds)\n",
      "status = RUNNING (6000 seconds)\n",
      "status = RUNNING (6000 seconds)\n",
      "status = RUNNING (6000 seconds)\n",
      "status = RUNNING (6000 seconds)\n",
      "status = RUNNING (6300 seconds)\n",
      "status = RUNNING (6300 seconds)\n",
      "status = RUNNING (6300 seconds)\n",
      "status = RUNNING (6300 seconds)\n",
      "<qiskit._result.Result object at 0x7fe3805e7668>\n",
      "status = RUNNING (6300 seconds)\n",
      "status = RUNNING (6300 seconds)\n",
      "status = RUNNING (6300 seconds)\n",
      "status = RUNNING (6300 seconds)\n",
      "<qiskit._result.Result object at 0x7fe3890071d0>\n"
     ]
    }
   ],
   "source": [
    "qprogram.run_batch_async(compiled_qobj_list, wait=300, timeout=6300, silent=False, callback=exptool.post_treatment_list)\n",
    "#qprogram.run_batch_async([compiled_minibatch], wait=10, timeout=30, silent=False, callback=exptool.post_treatment_list)"
   ]
  },
  {
   "cell_type": "code",
   "execution_count": 25,
   "metadata": {
    "collapsed": false,
    "deletable": true,
    "editable": true
   },
   "outputs": [
    {
     "data": {
      "text/plain": [
       "['MbCXAefOObZMffnONLtHjxdqMgLQQT',\n",
       " '3PCDkc12yU9CnMMhLaP3f5wRIvDlbS',\n",
       " 'J7rqb7jnSvmvMBoM5n7xGgMCAoKybj',\n",
       " 'XMWtDOg4H71Bld3O0TNqhrYuPJbKjk']"
      ]
     },
     "execution_count": 25,
     "metadata": {},
     "output_type": "execute_result"
    }
   ],
   "source": [
    "[compiled_qobj_list[j]['id'] for j in range(0,4)]"
   ]
  },
  {
   "cell_type": "code",
   "execution_count": 16,
   "metadata": {
    "collapsed": false,
    "deletable": true,
    "editable": true
   },
   "outputs": [
    {
     "ename": "IndexError",
     "evalue": "list index out of range",
     "output_type": "error",
     "traceback": [
      "\u001b[0;31m---------------------------------------------------------------------------\u001b[0m",
      "\u001b[0;31mIndexError\u001b[0m                                Traceback (most recent call last)",
      "\u001b[0;32m<ipython-input-16-ecf8eaccfc5f>\u001b[0m in \u001b[0;36m<module>\u001b[0;34m()\u001b[0m\n\u001b[0;32m----> 1\u001b[0;31m \u001b[0mres\u001b[0m \u001b[0;34m=\u001b[0m \u001b[0mqprogram\u001b[0m\u001b[0;34m.\u001b[0m\u001b[0mjobs_results\u001b[0m\u001b[0;34m[\u001b[0m\u001b[0;36m0\u001b[0m\u001b[0;34m]\u001b[0m\u001b[0;34m\u001b[0m\u001b[0m\n\u001b[0m\u001b[1;32m      2\u001b[0m \u001b[0mres\u001b[0m\u001b[0;34m.\u001b[0m\u001b[0mget_status\u001b[0m\u001b[0;34m(\u001b[0m\u001b[0;34m)\u001b[0m\u001b[0;34m\u001b[0m\u001b[0m\n",
      "\u001b[0;31mIndexError\u001b[0m: list index out of range"
     ]
    }
   ],
   "source": [
    "res = qprogram.jobs_results[0]\n",
    "res.get_status()"
   ]
  },
  {
   "cell_type": "code",
   "execution_count": 17,
   "metadata": {
    "collapsed": false,
    "deletable": true,
    "editable": true
   },
   "outputs": [
    {
     "ename": "IndexError",
     "evalue": "list index out of range",
     "output_type": "error",
     "traceback": [
      "\u001b[0;31m---------------------------------------------------------------------------\u001b[0m",
      "\u001b[0;31mIndexError\u001b[0m                                Traceback (most recent call last)",
      "\u001b[0;32m<ipython-input-17-90788f162521>\u001b[0m in \u001b[0;36m<module>\u001b[0;34m()\u001b[0m\n\u001b[1;32m      1\u001b[0m \u001b[0mresults\u001b[0m \u001b[0;34m=\u001b[0m \u001b[0mqprogram\u001b[0m\u001b[0;34m.\u001b[0m\u001b[0mjobs_results\u001b[0m\u001b[0;34m\u001b[0m\u001b[0m\n\u001b[0;32m----> 2\u001b[0;31m \u001b[0mresult\u001b[0m \u001b[0;34m=\u001b[0m \u001b[0mresults\u001b[0m\u001b[0;34m[\u001b[0m\u001b[0;36m0\u001b[0m\u001b[0;34m]\u001b[0m\u001b[0;34m\u001b[0m\u001b[0m\n\u001b[0m\u001b[1;32m      3\u001b[0m \u001b[0mlen\u001b[0m\u001b[0;34m(\u001b[0m\u001b[0mresults\u001b[0m\u001b[0;34m)\u001b[0m\u001b[0;34m\u001b[0m\u001b[0m\n",
      "\u001b[0;31mIndexError\u001b[0m: list index out of range"
     ]
    }
   ],
   "source": [
    "results = qprogram.jobs_results\n",
    "result = results[0]\n",
    "len(results)"
   ]
  },
  {
   "cell_type": "code",
   "execution_count": 18,
   "metadata": {
    "collapsed": false,
    "deletable": true,
    "editable": true
   },
   "outputs": [
    {
     "ename": "NameError",
     "evalue": "name 'result' is not defined",
     "output_type": "error",
     "traceback": [
      "\u001b[0;31m---------------------------------------------------------------------------\u001b[0m",
      "\u001b[0;31mNameError\u001b[0m                                 Traceback (most recent call last)",
      "\u001b[0;32m<ipython-input-18-eb7998a607d1>\u001b[0m in \u001b[0;36m<module>\u001b[0;34m()\u001b[0m\n\u001b[0;32m----> 1\u001b[0;31m \u001b[0mresult\u001b[0m\u001b[0;34m.\u001b[0m\u001b[0mget_status\u001b[0m\u001b[0;34m(\u001b[0m\u001b[0;34m)\u001b[0m\u001b[0;34m\u001b[0m\u001b[0m\n\u001b[0m",
      "\u001b[0;31mNameError\u001b[0m: name 'result' is not defined"
     ]
    }
   ],
   "source": [
    "result.get_status()"
   ]
  },
  {
   "cell_type": "code",
   "execution_count": 47,
   "metadata": {
    "collapsed": false,
    "deletable": true,
    "editable": true
   },
   "outputs": [],
   "source": [
    "results = qprogram.execute([\"bM|00>[3, 4]\",\"bMX1|00>[3, 4]\"], backend='ibmqx4', shots=1000, max_credits=10, wait=10, timeout=760)"
   ]
  },
  {
   "cell_type": "code",
   "execution_count": 54,
   "metadata": {
    "collapsed": false,
    "deletable": true,
    "editable": true
   },
   "outputs": [
    {
     "name": "stdout",
     "output_type": "stream",
     "text": [
      "{'10000': 10, '00000': 915, '00001': 6, '00010': 13, '00100': 16, '01000': 39, '01100': 1}\n",
      "{'time': 48.44315791130066, 'counts': {'10000': 1, '11000': 6, '00000': 118, '00001': 1, '00010': 1, '00100': 3, '01000': 829, '01001': 9, '01010': 8, '01100': 24}, 'date': '2017-10-03T12:28:52.339Z'}\n"
     ]
    },
    {
     "data": {
      "text/plain": [
       "['bM|00>[3, 4]', 'bMX1|00>[3, 4]']"
      ]
     },
     "execution_count": 54,
     "metadata": {},
     "output_type": "execute_result"
    }
   ],
   "source": [
    "if results.get_status()=='COMPLETED':\n",
    "    print(results.get_counts(\"bM|00>[3, 4]\"))\n",
    "    print(results.get_data(\"bMX1|00>[3, 4]\"))\n",
    "else:\n",
    "    print(results.get_status())\n",
    "results.get_names()"
   ]
  },
  {
   "cell_type": "code",
   "execution_count": 91,
   "metadata": {
    "collapsed": false,
    "deletable": true,
    "editable": true
   },
   "outputs": [
    {
     "name": "stdout",
     "output_type": "stream",
     "text": [
      "Gate error :\n",
      "------------\n",
      "[0.0006009179709377532, 0.0006867731322012238, 0.001631340796924452, 0.0014595792651160289, 0.0017172252255832077]\n",
      "\n",
      "Readout error :\n",
      "---------------\n",
      "[0.033, 0.029, 0.026, 0.134, 0.036]\n",
      "Multi qubit gate error :\n",
      "------------\n",
      "[0.020000606743482918, 0.022706065613666004, 0.024738466135747345, 0.017300151987441892, 0.02236760832218937, 0.025213102663840553]\n"
     ]
    },
    {
     "data": {
      "text/plain": [
       "{'backend': 'ibmqx4',\n",
       " 'last_update_date': '2017-10-02T11:02:06.000Z',\n",
       " 'multi_qubit_gates': [{'gateError': {'date': '2017-10-02T11:02:06Z',\n",
       "    'value': 0.020000606743482918},\n",
       "   'name': 'CX1_0',\n",
       "   'qubits': [1, 0],\n",
       "   'type': 'CX'},\n",
       "  {'gateError': {'date': '2017-10-02T11:02:06Z',\n",
       "    'value': 0.022706065613666004},\n",
       "   'name': 'CX2_0',\n",
       "   'qubits': [2, 0],\n",
       "   'type': 'CX'},\n",
       "  {'gateError': {'date': '2017-10-02T11:02:06Z',\n",
       "    'value': 0.024738466135747345},\n",
       "   'name': 'CX2_1',\n",
       "   'qubits': [2, 1],\n",
       "   'type': 'CX'},\n",
       "  {'gateError': {'date': '2017-10-02T11:02:06Z',\n",
       "    'value': 0.017300151987441892},\n",
       "   'name': 'CX2_4',\n",
       "   'qubits': [2, 4],\n",
       "   'type': 'CX'},\n",
       "  {'gateError': {'date': '2017-10-02T11:02:06Z', 'value': 0.02236760832218937},\n",
       "   'name': 'CX3_2',\n",
       "   'qubits': [3, 2],\n",
       "   'type': 'CX'},\n",
       "  {'gateError': {'date': '2017-10-02T11:02:06Z',\n",
       "    'value': 0.025213102663840553},\n",
       "   'name': 'CX3_4',\n",
       "   'qubits': [3, 4],\n",
       "   'type': 'CX'}],\n",
       " 'qubits': [{'gateError': {'date': '2017-10-02T11:02:06Z',\n",
       "    'value': 0.0006009179709377532},\n",
       "   'name': 'Q0',\n",
       "   'readoutError': {'date': '2017-10-02T11:02:06Z', 'value': 0.033}},\n",
       "  {'gateError': {'date': '2017-10-02T11:02:06Z',\n",
       "    'value': 0.0006867731322012238},\n",
       "   'name': 'Q1',\n",
       "   'readoutError': {'date': '2017-10-02T11:02:06Z', 'value': 0.029}},\n",
       "  {'gateError': {'date': '2017-10-02T11:02:06Z',\n",
       "    'value': 0.001631340796924452},\n",
       "   'name': 'Q2',\n",
       "   'readoutError': {'date': '2017-10-02T11:02:06Z', 'value': 0.026}},\n",
       "  {'gateError': {'date': '2017-10-02T11:02:06Z',\n",
       "    'value': 0.0014595792651160289},\n",
       "   'name': 'Q3',\n",
       "   'readoutError': {'date': '2017-10-02T11:02:06Z', 'value': 0.134}},\n",
       "  {'gateError': {'date': '2017-10-02T11:02:06Z',\n",
       "    'value': 0.0017172252255832077},\n",
       "   'name': 'Q4',\n",
       "   'readoutError': {'date': '2017-10-02T11:02:06Z', 'value': 0.036}}]}"
      ]
     },
     "execution_count": 91,
     "metadata": {},
     "output_type": "execute_result"
    }
   ],
   "source": [
    "calib = qprogram.get_backend_calibration(\"ibmqx4\")\n",
    "print('Gate error :\\n------------')\n",
    "print([item['gateError']['value'] for item in calib['qubits']])\n",
    "print('\\nReadout error :\\n---------------')\n",
    "print([item['readoutError']['value'] for item in calib['qubits']])\n",
    "print('Multi qubit gate error :\\n------------')\n",
    "print([item['gateError']['value'] for item in calib['multi_qubit_gates']])\n",
    "calib"
   ]
  },
  {
   "cell_type": "code",
   "execution_count": null,
   "metadata": {
    "collapsed": false,
    "deletable": true,
    "editable": true
   },
   "outputs": [],
   "source": [
    "param = qprogram.get_backend_parameters(\"ibmqx4\")\n",
    "print('T1:\\n---')\n",
    "print([(item['T1']['value'],item['T1']['unit']) for item in param['qubits']])\n",
    "print('\\nT2:\\n---')\n",
    "print([(item['T2']['value'],item['T2']['unit']) for item in param['qubits']])\n",
    "param"
   ]
  },
  {
   "cell_type": "code",
   "execution_count": null,
   "metadata": {
    "collapsed": true,
    "deletable": true,
    "editable": true
   },
   "outputs": [],
   "source": [
    "# Find a reasonable formula to automatically choose the best two qubits."
   ]
  },
  {
   "cell_type": "code",
   "execution_count": null,
   "metadata": {
    "collapsed": false,
    "deletable": true,
    "editable": true
   },
   "outputs": [],
   "source": [
    "possible_pairs = config['coupling_map']\n",
    "print(possible_pairs)\n",
    "cp = 3 #the chosen pair\n",
    "print(possible_pairs[cp])"
   ]
  },
  {
   "cell_type": "code",
   "execution_count": null,
   "metadata": {
    "collapsed": false,
    "deletable": true,
    "editable": true
   },
   "outputs": [],
   "source": [
    "n = config['n_qubits']\n",
    "q = qprogram.create_quantum_register(\"q\",n)\n",
    "c = qprogram.create_classical_register(\"c\",n)"
   ]
  },
  {
   "cell_type": "code",
   "execution_count": null,
   "metadata": {
    "collapsed": false,
    "deletable": true,
    "editable": true
   },
   "outputs": [],
   "source": [
    "qc_FT = qprogram.create_circuit(\"prep_FT\",[q],[c])\n",
    "qc_FT.h(q[2])\n",
    "qc_FT.cx(q[2],q[0])\n",
    "qc_FT.cx(q[2],q[1])\n",
    "qc_FT.h(q[2])\n",
    "qc_FT.h(q[3])\n",
    "qc_FT.cx(q[3],q[2])\n",
    "qc_FT.h(q[2])\n",
    "qc_FT.h(q[3])\n",
    "qc_FT.cx(q[2],q[4])\n",
    "qc_FT.cx(q[2],q[0])\n",
    "qc_FT.measure(q[0],c[0])\n",
    "qc_FT.measure(q[1],c[1])\n",
    "qc_FT.measure(q[2],c[2])\n",
    "qc_FT.measure(q[3],c[3])\n",
    "qc_FT.measure(q[4],c[4])"
   ]
  },
  {
   "cell_type": "code",
   "execution_count": null,
   "metadata": {
    "collapsed": false,
    "deletable": true,
    "editable": true
   },
   "outputs": [],
   "source": [
    "def swap_circuit(qr,pair,qp):\n",
    "    qcircuitswap = qp.create_circuit(\"SWAP\"+str(pair),[qr],[])\n",
    "    qcircuitswap.cx(qr[pair[0]],qr[pair[1]])\n",
    "    qcircuitswap.h(qr[pair[0]])\n",
    "    qcircuitswap.h(qr[pair[1]])\n",
    "    qcircuitswap.cx(qr[pair[0]],qr[pair[1]])\n",
    "    qcircuitswap.h(qr[pair[0]])\n",
    "    qcircuitswap.h(qr[pair[1]])\n",
    "    qcircuitswap.cx(qr[pair[0]],qr[pair[1]])\n",
    "    return qcircuitswap"
   ]
  },
  {
   "cell_type": "code",
   "execution_count": null,
   "metadata": {
    "collapsed": false,
    "deletable": true,
    "editable": true
   },
   "outputs": [],
   "source": [
    "qc_NFT = qprogram.create_circuit(\"prep_NFT\",[q],[c])\n",
    "qc_NFT.h(q[3])\n",
    "qc_NFT.cx(q[3],q[4])\n",
    "qc_NFT.cx(q[3],q[2])\n",
    "qc_NFT.cx(q[2],q[1])\n",
    "qc_NFT.measure(q[0],c[0])\n",
    "qc_NFT.measure(q[1],c[1])\n",
    "qc_NFT.measure(q[2],c[2])\n",
    "qc_NFT.measure(q[3],c[3])\n",
    "qc_NFT.measure(q[4],c[4])"
   ]
  },
  {
   "cell_type": "code",
   "execution_count": null,
   "metadata": {
    "collapsed": false,
    "deletable": true,
    "editable": true
   },
   "outputs": [],
   "source": [
    "qc_NFTold = qprogram.create_circuit(\"prep_NFTold\",[q],[c])\n",
    "qc_NFTold.h(q[2])\n",
    "qc_NFTold.h(q[3])\n",
    "qc_NFTold.cx(q[3],q[4])\n",
    "qc_NFTold.h(q[4])\n",
    "qc_NFTold.cx(q[2],q[4])\n",
    "qc_NFTold.h(q[4])\n",
    "qc_NFTold.extend(swap_circuit(q,[2,1],qprogram))\n",
    "qc_NFTold.cx(q[3],q[2])\n",
    "qc_NFTold.cx(q[2],q[0])\n",
    "qc_NFTold.h(q[0])\n",
    "qc_NFTold.cx(q[1],q[0])\n",
    "qc_NFTold.h(q[0])\n",
    "qc_NFTold.h(q[1])\n",
    "qc_NFTold.measure(q[0],c[0])\n",
    "qc_NFTold.measure(q[1],c[1])\n",
    "qc_NFTold.measure(q[2],c[2])\n",
    "qc_NFTold.measure(q[3],c[3])\n",
    "qc_NFTold.measure(q[4],c[4])"
   ]
  },
  {
   "cell_type": "code",
   "execution_count": null,
   "metadata": {
    "collapsed": false,
    "deletable": true,
    "editable": true
   },
   "outputs": [],
   "source": [
    "qc_FTv2 = qprogram.create_circuit(\"prep_FTv2\",[q],[c])\n",
    "qc_FTv2.h(q[3])\n",
    "qc_FTv2.cx(q[3],q[2])\n",
    "qc_FTv2.h(q[2])\n",
    "qc_FTv2.h(q[3])\n",
    "qc_FTv2.cx(q[2],q[1])\n",
    "qc_FTv2.cx(q[3],q[4])\n",
    "qc_FTv2.h(q[4])\n",
    "qc_FTv2.extend(swap_circuit(q,[2,4],qprogram))\n",
    "qc_FTv2.cx(q[2],q[0])\n",
    "qc_FTv2.cx(q[1],q[0])\n",
    "qc_FTv2.h(q[4])\n",
    "qc_FTv2.measure(q[0],c[0])\n",
    "qc_FTv2.measure(q[1],c[1])\n",
    "qc_FTv2.measure(q[2],c[2])\n",
    "qc_FTv2.measure(q[3],c[3])\n",
    "qc_FTv2.measure(q[4],c[4])"
   ]
  },
  {
   "cell_type": "code",
   "execution_count": null,
   "metadata": {
    "collapsed": false,
    "deletable": true,
    "editable": true
   },
   "outputs": [],
   "source": [
    "def prep_bare_circuit(pair,qprogram, q, c):\n",
    "    qc_ppBare = qprogram.create_circuit(\"prep_Bare - \"+str(pair),[q],[c])\n",
    "    qc_ppBare.measure(q[pair[0]],c[pair[0]])\n",
    "    qc_ppBare.measure(q[pair[1]],c[pair[1]])\n",
    "    return qc_ppBare\n",
    "qc_ppBare = prep_bare_circuit(possible_pairs[cp],qprogram,q,c)"
   ]
  },
  {
   "cell_type": "code",
   "execution_count": null,
   "metadata": {
    "collapsed": false,
    "deletable": true,
    "editable": true
   },
   "outputs": [],
   "source": [
    "result = qprogram.execute([\"prep_FT\",\"prep_FTv2\",\"prep_NFTold\",\"prep_NFT\",\"prep_Bare - \"+str(possible_pairs[cp])], \"ibmqx4\", shots=8192, max_credits=5, wait=10, timeout=2400)"
   ]
  },
  {
   "cell_type": "code",
   "execution_count": null,
   "metadata": {
    "collapsed": false,
    "deletable": true,
    "editable": true
   },
   "outputs": [],
   "source": [
    "print(result.get_counts(\"prep_FT\"))\n",
    "print(result.get_counts(\"prep_FTv2\"))\n",
    "print(result.get_counts(\"prep_NFT\"))\n",
    "print(result.get_counts(\"prep_NFTold\"))\n",
    "print(result.get_counts(\"prep_Bare - \"+str(possible_pairs[cp])))"
   ]
  },
  {
   "cell_type": "code",
   "execution_count": null,
   "metadata": {
    "collapsed": false,
    "deletable": true,
    "editable": true
   },
   "outputs": [],
   "source": [
    "from qiskit.tools.visualization import plot_state, plot_histogram"
   ]
  },
  {
   "cell_type": "code",
   "execution_count": null,
   "metadata": {
    "collapsed": false,
    "deletable": true,
    "editable": true
   },
   "outputs": [],
   "source": [
    "plot_histogram(result.get_counts(\"prep_FT\"))\n",
    "plot_histogram(result.get_counts(\"prep_FTv2\"))\n",
    "plot_histogram(result.get_counts(\"prep_NFT\"))\n",
    "plot_histogram(result.get_counts(\"prep_NFTold\"))\n",
    "plot_histogram(result.get_counts(\"prep_Bare - \"+str(possible_pairs[cp])))"
   ]
  },
  {
   "cell_type": "code",
   "execution_count": null,
   "metadata": {
    "collapsed": false,
    "deletable": true,
    "editable": true
   },
   "outputs": [],
   "source": [
    "result.get_ran_qasm(\"prep_Bare\")"
   ]
  },
  {
   "cell_type": "code",
   "execution_count": null,
   "metadata": {
    "collapsed": false,
    "deletable": true,
    "editable": true
   },
   "outputs": [],
   "source": [
    "def encoded_X1_circuit(mapping, qp):\n",
    "    qrs = [qp.get_quantum_register(qrn) for qrn in qp.get_quantum_register_names()]\n",
    "    crs = [qp.get_classical_register(crn) for crn in qp.get_classical_register_names()]\n",
    "    qcircuit_encoded_X1 = qp.create_circuit(\"encoded_X1\",qrs,crs)\n",
    "    qcircuit_encoded_X1.x(qrs[0][mapping[0]])\n",
    "    qcircuit_encoded_X1.x(qrs[0][mapping[1]])\n",
    "    return qcircuit_encoded_X1\n",
    "def encoded_X2_circuit(qr, mapping, qp):\n",
    "    qcircuit_encoded_X2 = qp.create_circuit(\"encoded_X2\",[qr],[])\n",
    "    qcircuit_encoded_X2.x(qr[mapping[0]])\n",
    "    qcircuit_encoded_X2.x(qr[mapping[2]])\n",
    "    return qcircuit_encoded_X2\n",
    "def encoded_Z1_circuit(qr, mapping, qp):\n",
    "    qcircuit_encoded_Z1 = qp.create_circuit(\"encoded_Z1\",[qr],[])\n",
    "    qcircuit_encoded_Z1.z(qr[mapping[1]])\n",
    "    qcircuit_encoded_Z1.z(qr[mapping[3]])\n",
    "    return qcircuit_encoded_Z1\n",
    "def encoded_Z2_circuit(qr, mapping, qp):\n",
    "    qcircuit_encoded_Z2 = qp.create_circuit(\"encoded_Z2\",[qr],[])\n",
    "    qcircuit_encoded_Z2.z(qr[mapping[2]])\n",
    "    qcircuit_encoded_Z2.z(qr[mapping[3]])\n",
    "    return qcircuit_encoded_Z2\n",
    "def encoded_CZ_circuit(qr, mapping, qp):\n",
    "    qcircuit_encoded_CZ = qp.create_circuit(\"encoded_CZ\",[qr],[])\n",
    "    qcircuit_encoded_CZ.s(qr[mapping[0]])\n",
    "    qcircuit_encoded_CZ.s(qr[mapping[1]])\n",
    "    qcircuit_encoded_CZ.s(qr[mapping[2]])\n",
    "    qcircuit_encoded_CZ.s(qr[mapping[3]])\n",
    "    return qcircuit_encoded_CZ\n",
    "def encoded_HHS_circuit(qr, mapping, qp):\n",
    "    qcircuit_encoded_HHS = qp.create_circuit(\"encoded_HHS\",[qr],[])\n",
    "    qcircuit_encoded_HHS.h(qr[mapping[0]])\n",
    "    qcircuit_encoded_HHS.h(qr[mapping[1]])\n",
    "    qcircuit_encoded_HHS.h(qr[mapping[2]])\n",
    "    qcircuit_encoded_HHS.h(qr[mapping[3]])\n",
    "    return qcircuit_encoded_HHS"
   ]
  },
  {
   "cell_type": "code",
   "execution_count": null,
   "metadata": {
    "collapsed": false,
    "deletable": true,
    "editable": true
   },
   "outputs": [],
   "source": [
    "encoded_X1_circuit([0,1],qprogram).qasm()"
   ]
  },
  {
   "cell_type": "code",
   "execution_count": null,
   "metadata": {
    "collapsed": false,
    "deletable": true,
    "editable": true
   },
   "outputs": [],
   "source": [
    "#print(qprogram.compile([\"prep_FT\"],backend=\"ibmqx4\")['circuits'][0]['compiled_circuit_qasm'])"
   ]
  },
  {
   "cell_type": "code",
   "execution_count": null,
   "metadata": {
    "collapsed": false,
    "deletable": true,
    "editable": true
   },
   "outputs": [],
   "source": [
    "import csv\n",
    "\n",
    "with open('mycsvfile5.csv', 'w') as f:  # Just use 'w' mode in 3.x\n",
    "    w = csv.DictWriter(f, result.get_counts(\"prep_FT\").keys())\n",
    "    w.writeheader()\n",
    "    w.writerows([result.get_counts(\"prep_FT\"),result.get_counts(\"prep_FTv2\"),result.get_counts(\"prep_NFT\"),result.get_counts(\"prep_NFTold\"),result.get_counts(\"prep_Bare - \"+str(possible_pairs[cp]))])"
   ]
  },
  {
   "cell_type": "code",
   "execution_count": null,
   "metadata": {
    "collapsed": false,
    "deletable": true,
    "editable": true
   },
   "outputs": [],
   "source": [
    "print(result.get_ran_qasm(\"prep_FT\") + '\\n')\n",
    "print(result.get_ran_qasm(\"prep_FTv2\") + '\\n')\n",
    "print(result.get_ran_qasm(\"prep_NFT\") + '\\n')\n",
    "print(result.get_ran_qasm(\"prep_NFTold\") + '\\n')\n",
    "print(result.get_ran_qasm(\"prep_Bare - \"+str(possible_pairs[cp])) + '\\n')"
   ]
  },
  {
   "cell_type": "code",
   "execution_count": null,
   "metadata": {
    "collapsed": false,
    "deletable": true,
    "editable": true
   },
   "outputs": [],
   "source": [
    "def convert_rate(rT, rG):\n",
    "    if rT['unit']=='ns':\n",
    "        mT = 10**(-9)\n",
    "    elif rT['unit']=='µs':\n",
    "        mT = 10**(-6)\n",
    "    else:\n",
    "        mT = 1\n",
    "    if rG['unit']=='ns':\n",
    "        mG = 10**(-9)\n",
    "    elif rG['unit']=='µs':\n",
    "        mG = 10**(-6)\n",
    "    else:\n",
    "        mG = 1\n",
    "    return 1-np.exp(-rG['value']*mG/(rT['value']*mT))\n",
    "        \n",
    "\n",
    "def rank_qubit_pairs(qp,backend):\n",
    "    config = qp.get_backend_configuration(backend,list_format=True)\n",
    "    calib = qp.get_backend_calibration(backend)\n",
    "    param = qp.get_backend_parameters(backend)\n",
    "    n = config['n_qubits']\n",
    "    pairs_numbers = dict([(tuple(c),[]) for c in config['coupling_map']])\n",
    "    for p,s in pairs_numbers.items():\n",
    "        s.append(calib['qubits'][p[0]]['gateError']['value'])\n",
    "        s.append(calib['qubits'][p[0]]['readoutError']['value'])\n",
    "        s.append(calib['qubits'][p[1]]['gateError']['value'])\n",
    "        s.append(calib['qubits'][p[1]]['readoutError']['value'])\n",
    "        for r in calib['multi_qubit_gates']:\n",
    "            if r['qubits']==list(p):\n",
    "                s.append(r['gateError']['value'])\n",
    "        s.append(convert_rate(param['qubits'][p[0]]['T1'],param['qubits'][p[0]]['gateTime']))\n",
    "        s.append(convert_rate(param['qubits'][p[0]]['T2'],param['qubits'][p[0]]['gateTime']))\n",
    "        s.append(convert_rate(param['qubits'][p[1]]['T1'],param['qubits'][p[1]]['gateTime']))\n",
    "        s.append(convert_rate(param['qubits'][p[1]]['T2'],param['qubits'][p[1]]['gateTime']))\n",
    "    for p,s in pairs_numbers.items():\n",
    "        pairs_numbers[p] = sorted(s,reverse=True)\n",
    "    return (sorted(pairs_numbers,key=pairs_numbers.__getitem__),pairs_numbers)\n",
    "\n",
    "        \n",
    "        \n",
    "    \n",
    "    \n",
    "    \n",
    "    \n",
    "\n",
    "\n",
    "    "
   ]
  },
  {
   "cell_type": "code",
   "execution_count": null,
   "metadata": {
    "collapsed": false,
    "deletable": true,
    "editable": true
   },
   "outputs": [],
   "source": [
    "(sorted_pairs,pairs_dict) = rank_qubit_pairs(qprogram,\"ibmqx4\")"
   ]
  },
  {
   "cell_type": "code",
   "execution_count": null,
   "metadata": {
    "collapsed": false,
    "deletable": true,
    "editable": true
   },
   "outputs": [],
   "source": [
    "sorted_pairs"
   ]
  },
  {
   "cell_type": "code",
   "execution_count": null,
   "metadata": {
    "collapsed": false,
    "deletable": true,
    "editable": true
   },
   "outputs": [],
   "source": [
    "bare_programs_list = []\n",
    "bare_program_names_list = []\n",
    "for p in sorted_pairs:\n",
    "    bare_programs_list.append(prep_bare_circuit(p,qprogram,q,c))\n",
    "    bare_program_names_list.append(\"prep_Bare - \"+str(p))\n"
   ]
  },
  {
   "cell_type": "code",
   "execution_count": null,
   "metadata": {
    "collapsed": false,
    "deletable": true,
    "editable": true
   },
   "outputs": [],
   "source": [
    "bare_program_names_list"
   ]
  },
  {
   "cell_type": "code",
   "execution_count": null,
   "metadata": {
    "collapsed": true,
    "deletable": true,
    "editable": true
   },
   "outputs": [],
   "source": [
    "result_bare = qprogram.execute(bare_program_names_list, \"ibmqx4\", shots=8192, max_credits=5, wait=10, timeout=2400)"
   ]
  },
  {
   "cell_type": "code",
   "execution_count": null,
   "metadata": {
    "collapsed": false,
    "deletable": true,
    "editable": true
   },
   "outputs": [],
   "source": [
    "with open('mycsvfile_bare2.csv', 'w') as f:  # Just use 'w' mode in 3.x\n",
    "    w = csv.DictWriter(f, [('{0:0'+str(n)+'b}').format(j) for j in range(0,2**n)])\n",
    "    w.writeheader()\n",
    "    w.writerows([result_bare.get_counts(name) for name in bare_program_names_list])"
   ]
  },
  {
   "cell_type": "code",
   "execution_count": null,
   "metadata": {
    "collapsed": false,
    "deletable": true,
    "editable": true
   },
   "outputs": [],
   "source": []
  },
  {
   "cell_type": "code",
   "execution_count": 33,
   "metadata": {
    "collapsed": false,
    "deletable": true,
    "editable": true
   },
   "outputs": [
    {
     "data": {
      "text/plain": [
       "['00000',\n",
       " '00001',\n",
       " '00010',\n",
       " '00011',\n",
       " '00100',\n",
       " '00101',\n",
       " '00110',\n",
       " '00111',\n",
       " '01000',\n",
       " '01001',\n",
       " '01010',\n",
       " '01011',\n",
       " '01100',\n",
       " '01101',\n",
       " '01110',\n",
       " '01111',\n",
       " '10000',\n",
       " '10001',\n",
       " '10010',\n",
       " '10011',\n",
       " '10100',\n",
       " '10101',\n",
       " '10110',\n",
       " '10111',\n",
       " '11000',\n",
       " '11001',\n",
       " '11010',\n",
       " '11011',\n",
       " '11100',\n",
       " '11101',\n",
       " '11110',\n",
       " '11111']"
      ]
     },
     "execution_count": 33,
     "metadata": {},
     "output_type": "execute_result"
    }
   ],
   "source": [
    "[('{0:0'+str(n)+'b}').format(j) for j in range(0,2**n)]"
   ]
  },
  {
   "cell_type": "code",
   "execution_count": null,
   "metadata": {
    "collapsed": false,
    "deletable": true,
    "editable": true
   },
   "outputs": [],
   "source": []
  },
  {
   "cell_type": "code",
   "execution_count": null,
   "metadata": {
    "collapsed": false,
    "deletable": true,
    "editable": true
   },
   "outputs": [],
   "source": []
  },
  {
   "cell_type": "code",
   "execution_count": null,
   "metadata": {
    "collapsed": false,
    "deletable": true,
    "editable": true
   },
   "outputs": [],
   "source": []
  },
  {
   "cell_type": "code",
   "execution_count": null,
   "metadata": {
    "collapsed": false,
    "deletable": true,
    "editable": true
   },
   "outputs": [],
   "source": []
  },
  {
   "cell_type": "code",
   "execution_count": null,
   "metadata": {
    "collapsed": false,
    "deletable": true,
    "editable": true
   },
   "outputs": [],
   "source": []
  },
  {
   "cell_type": "code",
   "execution_count": null,
   "metadata": {
    "collapsed": false,
    "deletable": true,
    "editable": true
   },
   "outputs": [],
   "source": []
  },
  {
   "cell_type": "code",
   "execution_count": null,
   "metadata": {
    "collapsed": false,
    "deletable": true,
    "editable": true
   },
   "outputs": [],
   "source": []
  },
  {
   "cell_type": "code",
   "execution_count": 118,
   "metadata": {
    "collapsed": false,
    "deletable": true,
    "editable": true
   },
   "outputs": [
    {
     "data": {
      "text/plain": [
       "3"
      ]
     },
     "execution_count": 118,
     "metadata": {},
     "output_type": "execute_result"
    }
   ],
   "source": [
    "int(len(circuit_names)/50)"
   ]
  },
  {
   "cell_type": "code",
   "execution_count": 14,
   "metadata": {
    "collapsed": false,
    "deletable": true,
    "editable": true
   },
   "outputs": [],
   "source": [
    "l = [1,2,3,4,5,6,7]"
   ]
  },
  {
   "cell_type": "code",
   "execution_count": 15,
   "metadata": {
    "collapsed": false,
    "deletable": true,
    "editable": true
   },
   "outputs": [
    {
     "data": {
      "text/plain": [
       "[1]"
      ]
     },
     "execution_count": 15,
     "metadata": {},
     "output_type": "execute_result"
    }
   ],
   "source": [
    "l[0:1]"
   ]
  },
  {
   "cell_type": "code",
   "execution_count": 54,
   "metadata": {
    "collapsed": false,
    "deletable": true,
    "editable": true
   },
   "outputs": [],
   "source": [
    "api = qprogram.get_api()"
   ]
  },
  {
   "cell_type": "code",
   "execution_count": 55,
   "metadata": {
    "collapsed": false,
    "deletable": true,
    "editable": true
   },
   "outputs": [],
   "source": [
    "job_result = api.get_job('fab802b33cf463eec11a77a717748fcc')"
   ]
  },
  {
   "cell_type": "code",
   "execution_count": 56,
   "metadata": {
    "collapsed": false,
    "deletable": true,
    "editable": true
   },
   "outputs": [
    {
     "data": {
      "text/plain": [
       "{'backend': {'id': 'c16c5ddebbf8922a7e2a0f5a89cac478', 'name': 'ibmqx4'},\n",
       " 'calibration': {'fridgeParameters': {'Temperature': {'date': '2017-10-10T11:02:10Z',\n",
       "    'unit': 'K',\n",
       "    'value': 0.021},\n",
       "   'cooldownDate': '2017-09-07'},\n",
       "  'lastUpdateDate': '2017-10-10T11:02:10.000Z',\n",
       "  'multiQubitGates': [{'gateError': {'date': '2017-10-10T11:02:10Z',\n",
       "     'value': 0.02406068322858046},\n",
       "    'name': 'CX1_0',\n",
       "    'qubits': [1, 0],\n",
       "    'type': 'CX'},\n",
       "   {'gateError': {'date': '2017-10-10T11:02:10Z',\n",
       "     'value': 0.02392516461759317},\n",
       "    'name': 'CX2_0',\n",
       "    'qubits': [2, 0],\n",
       "    'type': 'CX'},\n",
       "   {'gateError': {'date': '2017-10-10T11:02:10Z',\n",
       "     'value': 0.035763117147760204},\n",
       "    'name': 'CX2_1',\n",
       "    'qubits': [2, 1],\n",
       "    'type': 'CX'},\n",
       "   {'gateError': {'date': '2017-10-10T11:02:10Z',\n",
       "     'value': 0.05419100812238378},\n",
       "    'name': 'CX2_4',\n",
       "    'qubits': [2, 4],\n",
       "    'type': 'CX'},\n",
       "   {'gateError': {'date': '2017-10-10T11:02:10Z',\n",
       "     'value': 0.023112318348217586},\n",
       "    'name': 'CX3_2',\n",
       "    'qubits': [3, 2],\n",
       "    'type': 'CX'},\n",
       "   {'gateError': {'date': '2017-10-10T11:02:10Z',\n",
       "     'value': 0.03658313664371693},\n",
       "    'name': 'CX3_4',\n",
       "    'qubits': [3, 4],\n",
       "    'type': 'CX'}],\n",
       "  'qubits': [{'T1': {'date': '2017-10-10T11:02:10Z',\n",
       "     'unit': 'µs',\n",
       "     'value': 58.6},\n",
       "    'T2': {'date': '2017-10-10T11:02:10Z', 'unit': 'µs', 'value': 50},\n",
       "    'buffer': {'date': '2017-10-10T11:02:10Z', 'unit': 'ns', 'value': 10},\n",
       "    'frequency': {'date': '2017-10-10T11:02:10Z',\n",
       "     'unit': 'GHz',\n",
       "     'value': 5.24613},\n",
       "    'gateError': {'date': '2017-10-10T11:02:10Z',\n",
       "     'value': 0.000858490762927322},\n",
       "    'gateTime': {'date': '2017-10-10T11:02:10Z', 'unit': 'ns', 'value': 50},\n",
       "    'name': 'Q0',\n",
       "    'readoutError': {'date': '2017-10-10T11:02:10Z', 'value': 0.035}},\n",
       "   {'T1': {'date': '2017-10-10T11:02:10Z', 'unit': 'µs', 'value': 65},\n",
       "    'T2': {'date': '2017-10-10T11:02:10Z', 'unit': 'µs', 'value': 53.7},\n",
       "    'buffer': {'date': '2017-10-10T11:02:10Z', 'unit': 'ns', 'value': 10},\n",
       "    'frequency': {'date': '2017-10-10T11:02:10Z',\n",
       "     'unit': 'GHz',\n",
       "     'value': 5.30262},\n",
       "    'gateError': {'date': '2017-10-10T11:02:10Z',\n",
       "     'value': 0.0013737021608475342},\n",
       "    'gateTime': {'date': '2017-10-10T11:02:10Z', 'unit': 'ns', 'value': 50},\n",
       "    'name': 'Q1',\n",
       "    'readoutError': {'date': '2017-10-10T11:02:10Z', 'value': 0.054}},\n",
       "   {'T1': {'date': '2017-10-10T11:02:10Z', 'unit': 'µs', 'value': 26.5},\n",
       "    'T2': {'date': '2017-10-10T11:02:10Z', 'unit': 'µs', 'value': 40.4},\n",
       "    'buffer': {'date': '2017-10-10T11:02:10Z', 'unit': 'ns', 'value': 10},\n",
       "    'frequency': {'date': '2017-10-10T11:02:10Z',\n",
       "     'unit': 'GHz',\n",
       "     'value': 5.35621},\n",
       "    'gateError': {'date': '2017-10-10T11:02:10Z',\n",
       "     'value': 0.0017172252255832077},\n",
       "    'gateTime': {'date': '2017-10-10T11:02:10Z', 'unit': 'ns', 'value': 50},\n",
       "    'name': 'Q2',\n",
       "    'readoutError': {'date': '2017-10-10T11:02:10Z', 'value': 0.029}},\n",
       "   {'T1': {'date': '2017-10-10T11:02:10Z', 'unit': 'µs', 'value': 45.4},\n",
       "    'T2': {'date': '2017-10-10T11:02:10Z', 'unit': 'µs', 'value': 72},\n",
       "    'buffer': {'date': '2017-10-10T11:02:10Z', 'unit': 'ns', 'value': 10},\n",
       "    'frequency': {'date': '2017-10-10T11:02:10Z',\n",
       "     'unit': 'GHz',\n",
       "     'value': 5.43174},\n",
       "    'gateError': {'date': '2017-10-10T11:02:10Z',\n",
       "     'value': 0.00128782749692391},\n",
       "    'gateTime': {'date': '2017-10-10T11:02:10Z', 'unit': 'ns', 'value': 50},\n",
       "    'name': 'Q3',\n",
       "    'readoutError': {'date': '2017-10-10T11:02:10Z', 'value': 0.064}},\n",
       "   {'T1': {'date': '2017-10-10T11:02:10Z', 'unit': 'µs', 'value': 42.2},\n",
       "    'T2': {'date': '2017-10-10T11:02:10Z', 'unit': 'µs', 'value': 20.8},\n",
       "    'buffer': {'date': '2017-10-10T11:02:10Z', 'unit': 'ns', 'value': 10},\n",
       "    'frequency': {'date': '2017-10-10T11:02:10Z',\n",
       "     'unit': 'GHz',\n",
       "     'value': 5.18244},\n",
       "    'gateError': {'date': '2017-10-10T11:02:10Z',\n",
       "     'value': 0.00197489316929661},\n",
       "    'gateTime': {'date': '2017-10-10T11:02:10Z', 'unit': 'ns', 'value': 50},\n",
       "    'name': 'Q4',\n",
       "    'readoutError': {'date': '2017-10-10T11:02:10Z', 'value': 0.056}}],\n",
       "  'version': '3.0'},\n",
       " 'creationDate': '2017-10-10T08:49:52.308Z',\n",
       " 'deleted': False,\n",
       " 'id': 'fab802b33cf463eec11a77a717748fcc',\n",
       " 'maxCredits': 5,\n",
       " 'qasms': [{'data': {'counts': {'00000': 431,\n",
       "     '00001': 443,\n",
       "     '00010': 340,\n",
       "     '00011': 279,\n",
       "     '00100': 422,\n",
       "     '00101': 288,\n",
       "     '00110': 353,\n",
       "     '00111': 291,\n",
       "     '01000': 380,\n",
       "     '01001': 282,\n",
       "     '01010': 272,\n",
       "     '01011': 253,\n",
       "     '01100': 346,\n",
       "     '01101': 274,\n",
       "     '01110': 361,\n",
       "     '01111': 201,\n",
       "     '10000': 128,\n",
       "     '10001': 331,\n",
       "     '10010': 92,\n",
       "     '10011': 256,\n",
       "     '10100': 131,\n",
       "     '10101': 325,\n",
       "     '10110': 106,\n",
       "     '10111': 226,\n",
       "     '11000': 90,\n",
       "     '11001': 276,\n",
       "     '11010': 70,\n",
       "     '11011': 228,\n",
       "     '11100': 123,\n",
       "     '11101': 293,\n",
       "     '11110': 82,\n",
       "     '11111': 219},\n",
       "    'date': '2017-10-10T12:09:12.745Z',\n",
       "    'time': 520.0897839069366},\n",
       "   'executionId': '8a73c01652a2c85f3376ce274d03cb1b',\n",
       "   'qasm': '\\ninclude \"qelib1.inc\";\\nqreg q[5];\\ncreg c[5];\\nu2(0.0,3.141592653589793) q[3];\\ncx q[3],q[2];\\nu2(0.0,3.141592653589793) q[2];\\nu2(0.0,3.141592653589793) q[3];\\ncx q[3],q[4];\\nu2(0.0,3.141592653589793) q[4];\\nu2(0.0,3.141592653589793) q[3];\\nmeasure q[3] -> c[3];\\ncx q[2],q[1];\\ncx q[2],q[4];\\nu2(0.0,3.141592653589793) q[2];\\nu2(0.0,3.141592653589793) q[4];\\ncx q[2],q[4];\\nu2(0.0,3.141592653589793) q[2];\\nu2(0.0,3.141592653589793) q[4];\\ncx q[2],q[4];\\nu2(0.0,3.141592653589793) q[4];\\nu2(0.0,3.141592653589793) q[4];\\nmeasure q[4] -> c[4];\\ncx q[2],q[0];\\ncx q[1],q[0];\\nu2(0.0,3.141592653589793) q[1];\\nmeasure q[1] -> c[1];\\nmeasure q[0] -> c[0];\\nu2(0.0,3.141592653589793) q[2];\\nmeasure q[2] -> c[2];\\n',\n",
       "   'status': 'DONE'},\n",
       "  {'data': {'counts': {'00000': 530,\n",
       "     '00001': 430,\n",
       "     '00010': 331,\n",
       "     '00011': 197,\n",
       "     '00100': 388,\n",
       "     '00101': 401,\n",
       "     '00110': 317,\n",
       "     '00111': 195,\n",
       "     '01000': 391,\n",
       "     '01001': 388,\n",
       "     '01010': 472,\n",
       "     '01011': 252,\n",
       "     '01100': 517,\n",
       "     '01101': 334,\n",
       "     '01110': 505,\n",
       "     '01111': 267,\n",
       "     '10000': 266,\n",
       "     '10001': 133,\n",
       "     '10010': 166,\n",
       "     '10011': 161,\n",
       "     '10100': 191,\n",
       "     '10101': 124,\n",
       "     '10110': 161,\n",
       "     '10111': 165,\n",
       "     '11000': 137,\n",
       "     '11001': 62,\n",
       "     '11010': 158,\n",
       "     '11011': 99,\n",
       "     '11100': 145,\n",
       "     '11101': 68,\n",
       "     '11110': 130,\n",
       "     '11111': 111},\n",
       "    'date': '2017-10-10T12:09:13.043Z',\n",
       "    'time': 520.0897839069366},\n",
       "   'executionId': '15f10d381ab2edef57f6a4cab614e008',\n",
       "   'qasm': '\\ninclude \"qelib1.inc\";\\nqreg q[5];\\ncreg c[5];\\nu2(0.0,3.141592653589793) q[3];\\ncx q[3],q[4];\\nu2(0.0,3.141592653589793) q[4];\\nu2(0.0,3.141592653589793) q[2];\\ncx q[2],q[4];\\nu2(0.0,3.141592653589793) q[4];\\nu2(0.0,3.141592653589793) q[4];\\nu1(1.5707963267948966) q[4];\\nmeasure q[4] -> c[4];\\ncx q[2],q[1];\\nu2(0.0,3.141592653589793) q[2];\\nu2(0.0,3.141592653589793) q[1];\\ncx q[2],q[1];\\nu2(0.0,3.141592653589793) q[2];\\nu2(0.0,3.141592653589793) q[1];\\ncx q[2],q[1];\\ncx q[3],q[2];\\nu2(0.0,3.141592653589793) q[3];\\nu1(1.5707963267948966) q[3];\\nmeasure q[3] -> c[3];\\ncx q[2],q[0];\\nu2(0.0,3.141592653589793) q[0];\\ncx q[1],q[0];\\nu2(0.0,3.141592653589793) q[0];\\nmeasure q[0] -> c[0];\\nu2(0.0,3.141592653589793) q[1];\\nu2(0.0,3.141592653589793) q[1];\\nu1(1.5707963267948966) q[1];\\nmeasure q[1] -> c[1];\\nu2(0.0,3.141592653589793) q[2];\\nu1(1.5707963267948966) q[2];\\nmeasure q[2] -> c[2];\\n',\n",
       "   'status': 'DONE'},\n",
       "  {'data': {'counts': {'00000': 544,\n",
       "     '00001': 7,\n",
       "     '00010': 3435,\n",
       "     '00011': 41,\n",
       "     '00100': 3498,\n",
       "     '00101': 32,\n",
       "     '00110': 192,\n",
       "     '00111': 4,\n",
       "     '01000': 21,\n",
       "     '01010': 143,\n",
       "     '01011': 3,\n",
       "     '01100': 141,\n",
       "     '01101': 1,\n",
       "     '01110': 9,\n",
       "     '10000': 11,\n",
       "     '10010': 44,\n",
       "     '10100': 55,\n",
       "     '10101': 3,\n",
       "     '10110': 4,\n",
       "     '11001': 1,\n",
       "     '11010': 2,\n",
       "     '11100': 1},\n",
       "    'date': '2017-10-10T12:09:13.293Z',\n",
       "    'time': 520.0897839069366},\n",
       "   'executionId': 'bfba14700328ec18b18be60be13d05cf',\n",
       "   'qasm': '\\ninclude \"qelib1.inc\";\\nqreg q[5];\\ncreg c[5];\\nmeasure q[4] -> c[4];\\nmeasure q[3] -> c[3];\\nu2(0.0,3.141592653589793) q[2];\\ncx q[2],q[1];\\nu1(3.141592653589793) q[1];\\nu3(3.141592653589793,0.0,3.141592653589793) q[1];\\nmeasure q[1] -> c[1];\\nmeasure q[2] -> c[2];\\nmeasure q[0] -> c[0];\\n',\n",
       "   'status': 'DONE'},\n",
       "  {'data': {'counts': {'00000': 1856,\n",
       "     '00001': 18,\n",
       "     '00010': 94,\n",
       "     '00011': 1,\n",
       "     '00100': 231,\n",
       "     '00101': 6,\n",
       "     '00110': 1561,\n",
       "     '00111': 23,\n",
       "     '01000': 272,\n",
       "     '01001': 1,\n",
       "     '01010': 33,\n",
       "     '01011': 1,\n",
       "     '01100': 79,\n",
       "     '01101': 4,\n",
       "     '01110': 275,\n",
       "     '01111': 1,\n",
       "     '10000': 325,\n",
       "     '10001': 6,\n",
       "     '10010': 15,\n",
       "     '10100': 40,\n",
       "     '10101': 2,\n",
       "     '10110': 301,\n",
       "     '10111': 2,\n",
       "     '11000': 1429,\n",
       "     '11001': 18,\n",
       "     '11010': 72,\n",
       "     '11100': 207,\n",
       "     '11101': 8,\n",
       "     '11110': 1296,\n",
       "     '11111': 15},\n",
       "    'date': '2017-10-10T12:09:13.555Z',\n",
       "    'time': 520.0897839069366},\n",
       "   'executionId': '308e686cb4aac64347be7a0f1be835eb',\n",
       "   'qasm': '\\ninclude \"qelib1.inc\";\\nqreg q[5];\\ncreg c[5];\\nu2(0.0,3.141592653589793) q[3];\\ncx q[3],q[4];\\nmeasure q[3] -> c[3];\\nmeasure q[4] -> c[4];\\nu2(0.0,3.141592653589793) q[2];\\ncx q[2],q[1];\\nmeasure q[1] -> c[1];\\nmeasure q[2] -> c[2];\\nmeasure q[0] -> c[0];\\n',\n",
       "   'status': 'DONE'},\n",
       "  {'data': {'counts': {'00000': 2079,\n",
       "     '00001': 1858,\n",
       "     '00010': 29,\n",
       "     '00011': 24,\n",
       "     '00100': 1961,\n",
       "     '00101': 1742,\n",
       "     '00110': 28,\n",
       "     '00111': 23,\n",
       "     '01000': 89,\n",
       "     '01001': 91,\n",
       "     '01011': 1,\n",
       "     '01100': 79,\n",
       "     '01101': 69,\n",
       "     '10000': 28,\n",
       "     '10001': 28,\n",
       "     '10100': 21,\n",
       "     '10101': 35,\n",
       "     '10110': 1,\n",
       "     '11000': 2,\n",
       "     '11001': 2,\n",
       "     '11100': 1,\n",
       "     '11101': 1},\n",
       "    'date': '2017-10-10T12:09:13.831Z',\n",
       "    'time': 520.0897839069366},\n",
       "   'executionId': '8a73c01652a2c85f3376ce274d03ceab',\n",
       "   'qasm': '\\ninclude \"qelib1.inc\";\\nqreg q[5];\\ncreg c[5];\\nmeasure q[4] -> c[4];\\nmeasure q[3] -> c[3];\\nu2(0.0,3.141592653589793) q[2];\\nmeasure q[2] -> c[2];\\nmeasure q[1] -> c[1];\\nu2(0.0,3.141592653589793) q[0];\\nu1(3.141592653589793) q[0];\\nmeasure q[0] -> c[0];\\n',\n",
       "   'status': 'DONE'},\n",
       "  {'data': {'counts': {'00000': 3962,\n",
       "     '00001': 3492,\n",
       "     '00010': 50,\n",
       "     '00011': 45,\n",
       "     '00100': 90,\n",
       "     '00101': 72,\n",
       "     '00110': 1,\n",
       "     '01000': 153,\n",
       "     '01001': 178,\n",
       "     '01010': 1,\n",
       "     '01011': 4,\n",
       "     '01100': 4,\n",
       "     '01101': 10,\n",
       "     '10000': 52,\n",
       "     '10001': 63,\n",
       "     '10010': 1,\n",
       "     '10011': 1,\n",
       "     '10100': 1,\n",
       "     '10101': 5,\n",
       "     '11000': 1,\n",
       "     '11001': 6},\n",
       "    'date': '2017-10-10T12:09:14.142Z',\n",
       "    'time': 520.0897839069366},\n",
       "   'executionId': 'fab802b33cf463eec11a77a7177493cc',\n",
       "   'qasm': '\\ninclude \"qelib1.inc\";\\nqreg q[5];\\ncreg c[5];\\nmeasure q[4] -> c[4];\\nmeasure q[3] -> c[3];\\nmeasure q[2] -> c[2];\\nmeasure q[1] -> c[1];\\nu2(0.0,3.141592653589793) q[0];\\nu1(3.141592653589793) q[0];\\nmeasure q[0] -> c[0];\\n',\n",
       "   'status': 'DONE'},\n",
       "  {'data': {'counts': {'00000': 2109,\n",
       "     '00001': 23,\n",
       "     '00010': 28,\n",
       "     '00100': 1999,\n",
       "     '00101': 23,\n",
       "     '00110': 29,\n",
       "     '01000': 158,\n",
       "     '01001': 2,\n",
       "     '01010': 1,\n",
       "     '01100': 143,\n",
       "     '01101': 1,\n",
       "     '01110': 4,\n",
       "     '10000': 1766,\n",
       "     '10001': 28,\n",
       "     '10010': 26,\n",
       "     '10011': 1,\n",
       "     '10100': 1625,\n",
       "     '10101': 23,\n",
       "     '10110': 13,\n",
       "     '11000': 74,\n",
       "     '11010': 1,\n",
       "     '11100': 110,\n",
       "     '11101': 2,\n",
       "     '11110': 3},\n",
       "    'date': '2017-10-10T12:09:14.399Z',\n",
       "    'time': 520.0897839069366},\n",
       "   'executionId': '408e9237c836311eb89730aeccdf52d0',\n",
       "   'qasm': '\\ninclude \"qelib1.inc\";\\nqreg q[5];\\ncreg c[5];\\nu2(0.0,3.141592653589793) q[4];\\nu1(3.141592653589793) q[4];\\nu1(3.141592653589793) q[4];\\nmeasure q[4] -> c[4];\\nmeasure q[3] -> c[3];\\nu2(0.0,3.141592653589793) q[2];\\nmeasure q[2] -> c[2];\\nmeasure q[1] -> c[1];\\nmeasure q[0] -> c[0];\\n',\n",
       "   'status': 'DONE'},\n",
       "  {'data': {'counts': {'00000': 2724,\n",
       "     '00001': 23,\n",
       "     '00010': 33,\n",
       "     '00011': 2,\n",
       "     '00100': 61,\n",
       "     '00110': 1,\n",
       "     '01000': 2190,\n",
       "     '01001': 19,\n",
       "     '01010': 25,\n",
       "     '01100': 41,\n",
       "     '01101': 2,\n",
       "     '10000': 1603,\n",
       "     '10001': 18,\n",
       "     '10010': 25,\n",
       "     '10100': 46,\n",
       "     '11000': 1317,\n",
       "     '11001': 12,\n",
       "     '11010': 20,\n",
       "     '11100': 28,\n",
       "     '11110': 2},\n",
       "    'date': '2017-10-10T12:09:14.683Z',\n",
       "    'time': 520.0897839069366},\n",
       "   'executionId': '1ad34d66ab610216cd424959725565a1',\n",
       "   'qasm': '\\ninclude \"qelib1.inc\";\\nqreg q[5];\\ncreg c[5];\\nu2(0.0,3.141592653589793) q[4];\\nu2(0.0,3.141592653589793) q[4];\\nu2(0.0,3.141592653589793) q[3];\\ncx q[3],q[4];\\nu2(0.0,3.141592653589793) q[4];\\nmeasure q[4] -> c[4];\\nmeasure q[3] -> c[3];\\nmeasure q[2] -> c[2];\\nmeasure q[1] -> c[1];\\nmeasure q[0] -> c[0];\\n',\n",
       "   'status': 'DONE'},\n",
       "  {'data': {'counts': {'00000': 3606,\n",
       "     '00001': 34,\n",
       "     '00010': 53,\n",
       "     '00100': 713,\n",
       "     '00101': 8,\n",
       "     '00110': 16,\n",
       "     '01000': 307,\n",
       "     '01001': 2,\n",
       "     '01010': 3,\n",
       "     '01100': 3292,\n",
       "     '01101': 31,\n",
       "     '01110': 40,\n",
       "     '10000': 33,\n",
       "     '10100': 8,\n",
       "     '10110': 1,\n",
       "     '11000': 8,\n",
       "     '11100': 36,\n",
       "     '11110': 1},\n",
       "    'date': '2017-10-10T12:09:14.937Z',\n",
       "    'time': 520.0897839069366},\n",
       "   'executionId': '47f27cb48e82076195c452a726019ab3',\n",
       "   'qasm': '\\ninclude \"qelib1.inc\";\\nqreg q[5];\\ncreg c[5];\\nmeasure q[4] -> c[4];\\nu2(0.0,3.141592653589793) q[3];\\ncx q[3],q[2];\\nu1(3.141592653589793) q[2];\\nmeasure q[2] -> c[2];\\nmeasure q[3] -> c[3];\\nmeasure q[1] -> c[1];\\nmeasure q[0] -> c[0];\\n',\n",
       "   'status': 'DONE'},\n",
       "  {'data': {'counts': {'00000': 2321,\n",
       "     '00001': 19,\n",
       "     '00010': 27,\n",
       "     '00011': 1,\n",
       "     '00100': 46,\n",
       "     '00110': 1,\n",
       "     '01000': 1927,\n",
       "     '01001': 22,\n",
       "     '01010': 30,\n",
       "     '01100': 34,\n",
       "     '10000': 2030,\n",
       "     '10001': 21,\n",
       "     '10010': 29,\n",
       "     '10100': 49,\n",
       "     '10110': 1,\n",
       "     '11000': 1553,\n",
       "     '11001': 20,\n",
       "     '11010': 14,\n",
       "     '11100': 47},\n",
       "    'date': '2017-10-10T12:09:15.253Z',\n",
       "    'time': 520.0897839069366},\n",
       "   'executionId': '47f27cb48e82076195c452a7260192b0',\n",
       "   'qasm': '\\ninclude \"qelib1.inc\";\\nqreg q[5];\\ncreg c[5];\\nu2(0.0,3.141592653589793) q[4];\\nu1(3.141592653589793) q[4];\\nmeasure q[4] -> c[4];\\nu2(0.0,3.141592653589793) q[3];\\nmeasure q[3] -> c[3];\\nmeasure q[2] -> c[2];\\nmeasure q[1] -> c[1];\\nmeasure q[0] -> c[0];\\n',\n",
       "   'status': 'DONE'},\n",
       "  {'data': {'counts': {'00000': 2054,\n",
       "     '00001': 1827,\n",
       "     '00010': 22,\n",
       "     '00011': 24,\n",
       "     '00100': 2015,\n",
       "     '00101': 1757,\n",
       "     '00110': 22,\n",
       "     '00111': 18,\n",
       "     '01000': 97,\n",
       "     '01001': 78,\n",
       "     '01010': 1,\n",
       "     '01011': 2,\n",
       "     '01100': 86,\n",
       "     '01101': 72,\n",
       "     '01111': 2,\n",
       "     '10000': 22,\n",
       "     '10001': 29,\n",
       "     '10010': 3,\n",
       "     '10100': 26,\n",
       "     '10101': 29,\n",
       "     '10110': 1,\n",
       "     '11001': 1,\n",
       "     '11100': 3,\n",
       "     '11101': 1},\n",
       "    'date': '2017-10-10T12:09:15.498Z',\n",
       "    'time': 520.0897839069366},\n",
       "   'executionId': 'dc3358f63329533862942010efd834d0',\n",
       "   'qasm': '\\ninclude \"qelib1.inc\";\\nqreg q[5];\\ncreg c[5];\\nmeasure q[4] -> c[4];\\nmeasure q[3] -> c[3];\\nu2(0.0,3.141592653589793) q[2];\\nmeasure q[2] -> c[2];\\nmeasure q[1] -> c[1];\\nu2(0.0,3.141592653589793) q[0];\\nu1(3.141592653589793) q[0];\\nu1(3.141592653589793) q[0];\\nmeasure q[0] -> c[0];\\n',\n",
       "   'status': 'DONE'},\n",
       "  {'data': {'counts': {'00000': 864,\n",
       "     '00001': 66,\n",
       "     '00010': 493,\n",
       "     '00011': 27,\n",
       "     '00100': 535,\n",
       "     '00101': 64,\n",
       "     '00110': 670,\n",
       "     '00111': 47,\n",
       "     '01000': 708,\n",
       "     '01001': 72,\n",
       "     '01010': 496,\n",
       "     '01011': 48,\n",
       "     '01100': 700,\n",
       "     '01101': 67,\n",
       "     '01110': 595,\n",
       "     '01111': 57,\n",
       "     '10000': 295,\n",
       "     '10001': 37,\n",
       "     '10010': 410,\n",
       "     '10011': 26,\n",
       "     '10100': 497,\n",
       "     '10101': 29,\n",
       "     '10110': 253,\n",
       "     '10111': 25,\n",
       "     '11000': 239,\n",
       "     '11001': 15,\n",
       "     '11010': 273,\n",
       "     '11011': 13,\n",
       "     '11100': 383,\n",
       "     '11101': 24,\n",
       "     '11110': 145,\n",
       "     '11111': 19},\n",
       "    'date': '2017-10-10T12:09:15.759Z',\n",
       "    'time': 520.0897839069366},\n",
       "   'executionId': '408e9237c836311eb89730aeccdf492e',\n",
       "   'qasm': '\\ninclude \"qelib1.inc\";\\nqreg q[5];\\ncreg c[5];\\nu2(0.0,3.141592653589793) q[3];\\nu2(0.0,3.141592653589793) q[2];\\ncx q[2],q[0];\\ncx q[2],q[1];\\nu2(0.0,3.141592653589793) q[2];\\ncx q[3],q[2];\\nu2(0.0,3.141592653589793) q[2];\\ncx q[2],q[4];\\nu2(0.0,3.141592653589793) q[4];\\nu1(3.141592653589793) q[4];\\nu1(1.5707963267948966) q[4];\\nmeasure q[4] -> c[4];\\nu2(0.0,3.141592653589793) q[3];\\nu2(0.0,3.141592653589793) q[3];\\nu1(1.5707963267948966) q[3];\\nmeasure q[3] -> c[3];\\nu2(0.0,3.141592653589793) q[1];\\nu1(1.5707963267948966) q[1];\\nmeasure q[1] -> c[1];\\ncx q[2],q[0];\\nu2(0.0,3.141592653589793) q[2];\\nu1(3.141592653589793) q[2];\\nu1(1.5707963267948966) q[2];\\nmeasure q[2] -> c[2];\\nmeasure q[0] -> c[0];\\n',\n",
       "   'status': 'DONE'},\n",
       "  {'data': {'counts': {'00000': 3298,\n",
       "     '00001': 81,\n",
       "     '00010': 68,\n",
       "     '00011': 67,\n",
       "     '00100': 74,\n",
       "     '00101': 40,\n",
       "     '00110': 136,\n",
       "     '00111': 5,\n",
       "     '01000': 233,\n",
       "     '01001': 19,\n",
       "     '01010': 43,\n",
       "     '01011': 48,\n",
       "     '01100': 107,\n",
       "     '01101': 32,\n",
       "     '01110': 412,\n",
       "     '01111': 23,\n",
       "     '10000': 101,\n",
       "     '10001': 11,\n",
       "     '10010': 29,\n",
       "     '10011': 18,\n",
       "     '10100': 120,\n",
       "     '10101': 39,\n",
       "     '10110': 705,\n",
       "     '10111': 47,\n",
       "     '11000': 35,\n",
       "     '11001': 9,\n",
       "     '11010': 67,\n",
       "     '11011': 61,\n",
       "     '11100': 313,\n",
       "     '11101': 59,\n",
       "     '11110': 1768,\n",
       "     '11111': 124},\n",
       "    'date': '2017-10-10T12:09:16.054Z',\n",
       "    'time': 520.0897839069366},\n",
       "   'executionId': 'd6ff5cdc37fc9b5685d1b1e2cda83637',\n",
       "   'qasm': '\\ninclude \"qelib1.inc\";\\nqreg q[5];\\ncreg c[5];\\nu2(0.0,3.141592653589793) q[3];\\nu2(0.0,3.141592653589793) q[2];\\ncx q[2],q[0];\\ncx q[2],q[1];\\nu2(0.0,3.141592653589793) q[2];\\ncx q[3],q[2];\\nu2(0.0,3.141592653589793) q[2];\\ncx q[2],q[4];\\nmeasure q[4] -> c[4];\\nu2(0.0,3.141592653589793) q[3];\\nmeasure q[3] -> c[3];\\nmeasure q[1] -> c[1];\\ncx q[2],q[0];\\nmeasure q[0] -> c[0];\\nmeasure q[2] -> c[2];\\n',\n",
       "   'status': 'DONE'},\n",
       "  {'data': {'counts': {'00000': 2181,\n",
       "     '00001': 25,\n",
       "     '00010': 25,\n",
       "     '00011': 1,\n",
       "     '00100': 1960,\n",
       "     '00101': 16,\n",
       "     '00110': 24,\n",
       "     '00111': 1,\n",
       "     '01000': 2009,\n",
       "     '01001': 20,\n",
       "     '01010': 36,\n",
       "     '01100': 1754,\n",
       "     '01101': 15,\n",
       "     '01110': 19,\n",
       "     '10000': 24,\n",
       "     '10001': 1,\n",
       "     '10100': 31,\n",
       "     '10101': 1,\n",
       "     '11000': 31,\n",
       "     '11100': 17,\n",
       "     '11110': 1},\n",
       "    'date': '2017-10-10T12:09:16.294Z',\n",
       "    'time': 520.0897839069366},\n",
       "   'executionId': '49527e1a61a2f837d9fab06565fa8e39',\n",
       "   'qasm': '\\ninclude \"qelib1.inc\";\\nqreg q[5];\\ncreg c[5];\\nmeasure q[4] -> c[4];\\nu3(3.141592653589793,0.0,3.141592653589793) q[3];\\nu2(0.0,3.141592653589793) q[3];\\nu2(0.0,3.141592653589793) q[2];\\nu2(0.0,3.141592653589793) q[2];\\ncx q[3],q[2];\\nu2(0.0,3.141592653589793) q[2];\\nmeasure q[2] -> c[2];\\nu3(3.141592653589793,0.0,3.141592653589793) q[3];\\nmeasure q[3] -> c[3];\\nmeasure q[1] -> c[1];\\nmeasure q[0] -> c[0];\\n',\n",
       "   'status': 'DONE'},\n",
       "  {'data': {'counts': {'00000': 604,\n",
       "     '00001': 4,\n",
       "     '00010': 8,\n",
       "     '00100': 11,\n",
       "     '01000': 34,\n",
       "     '01001': 1,\n",
       "     '01010': 1,\n",
       "     '01100': 3,\n",
       "     '10000': 6929,\n",
       "     '10001': 71,\n",
       "     '10010': 79,\n",
       "     '10011': 1,\n",
       "     '10100': 154,\n",
       "     '10110': 3,\n",
       "     '11000': 270,\n",
       "     '11001': 5,\n",
       "     '11010': 4,\n",
       "     '11100': 10},\n",
       "    'date': '2017-10-10T12:09:16.556Z',\n",
       "    'time': 520.0897839069366},\n",
       "   'executionId': 'bfba14700328ec18b18be60be13d14b2',\n",
       "   'qasm': '\\ninclude \"qelib1.inc\";\\nqreg q[5];\\ncreg c[5];\\nu3(3.141592653589793,0.0,3.141592653589793) q[4];\\nmeasure q[4] -> c[4];\\nmeasure q[3] -> c[3];\\nmeasure q[2] -> c[2];\\nmeasure q[1] -> c[1];\\nmeasure q[0] -> c[0];\\n',\n",
       "   'status': 'DONE'},\n",
       "  {'data': {'counts': {'00000': 24,\n",
       "     '00001': 257,\n",
       "     '00011': 1,\n",
       "     '00100': 496,\n",
       "     '00101': 6895,\n",
       "     '00110': 7,\n",
       "     '00111': 86,\n",
       "     '01001': 11,\n",
       "     '01100': 24,\n",
       "     '01101': 250,\n",
       "     '01111': 6,\n",
       "     '10001': 6,\n",
       "     '10100': 8,\n",
       "     '10101': 119,\n",
       "     '10111': 1,\n",
       "     '11101': 1},\n",
       "    'date': '2017-10-10T12:09:16.827Z',\n",
       "    'time': 520.0897839069366},\n",
       "   'executionId': '49527e1a61a2f837d9fab06565fa8ef2',\n",
       "   'qasm': '\\ninclude \"qelib1.inc\";\\nqreg q[5];\\ncreg c[5];\\nmeasure q[4] -> c[4];\\nmeasure q[3] -> c[3];\\nu3(3.141592653589793,0.0,3.141592653589793) q[2];\\nmeasure q[2] -> c[2];\\nmeasure q[1] -> c[1];\\nu3(3.141592653589793,0.0,3.141592653589793) q[0];\\nmeasure q[0] -> c[0];\\n',\n",
       "   'status': 'DONE'},\n",
       "  {'data': {'counts': {'00000': 4135,\n",
       "     '00001': 39,\n",
       "     '00010': 44,\n",
       "     '00100': 80,\n",
       "     '00101': 4,\n",
       "     '00110': 3,\n",
       "     '01000': 179,\n",
       "     '01001': 1,\n",
       "     '01010': 1,\n",
       "     '01100': 4,\n",
       "     '10000': 3403,\n",
       "     '10001': 41,\n",
       "     '10010': 42,\n",
       "     '10100': 80,\n",
       "     '11000': 133,\n",
       "     '11010': 3},\n",
       "    'date': '2017-10-10T12:09:17.096Z',\n",
       "    'time': 520.0897839069366},\n",
       "   'executionId': '3fc2b83dd99817057dd53e8ced3d5c46',\n",
       "   'qasm': '\\ninclude \"qelib1.inc\";\\nqreg q[5];\\ncreg c[5];\\nu2(0.0,3.141592653589793) q[4];\\nu1(3.141592653589793) q[4];\\nmeasure q[4] -> c[4];\\nmeasure q[3] -> c[3];\\nmeasure q[2] -> c[2];\\nmeasure q[1] -> c[1];\\nmeasure q[0] -> c[0];\\n',\n",
       "   'status': 'DONE'},\n",
       "  {'data': {'counts': {'00000': 1145,\n",
       "     '00001': 8,\n",
       "     '00010': 12,\n",
       "     '00100': 22,\n",
       "     '01000': 6639,\n",
       "     '01001': 56,\n",
       "     '01010': 71,\n",
       "     '01011': 1,\n",
       "     '01100': 124,\n",
       "     '01101': 1,\n",
       "     '01110': 2,\n",
       "     '10000': 21,\n",
       "     '10001': 2,\n",
       "     '10100': 5,\n",
       "     '10101': 1,\n",
       "     '11000': 77,\n",
       "     '11001': 2,\n",
       "     '11010': 1,\n",
       "     '11100': 2},\n",
       "    'date': '2017-10-10T12:09:17.372Z',\n",
       "    'time': 520.0897839069366},\n",
       "   'executionId': '1ad34d66ab610216cd42495972556a35',\n",
       "   'qasm': '\\ninclude \"qelib1.inc\";\\nqreg q[5];\\ncreg c[5];\\nmeasure q[4] -> c[4];\\nu3(3.141592653589793,0.0,3.141592653589793) q[3];\\nmeasure q[3] -> c[3];\\nmeasure q[2] -> c[2];\\nmeasure q[1] -> c[1];\\nmeasure q[0] -> c[0];\\n',\n",
       "   'status': 'DONE'},\n",
       "  {'data': {'counts': {'00000': 366,\n",
       "     '00001': 401,\n",
       "     '00010': 337,\n",
       "     '00011': 283,\n",
       "     '00100': 418,\n",
       "     '00101': 291,\n",
       "     '00110': 346,\n",
       "     '00111': 297,\n",
       "     '01000': 402,\n",
       "     '01001': 291,\n",
       "     '01010': 296,\n",
       "     '01011': 316,\n",
       "     '01100': 376,\n",
       "     '01101': 262,\n",
       "     '01110': 348,\n",
       "     '01111': 185,\n",
       "     '10000': 120,\n",
       "     '10001': 335,\n",
       "     '10010': 90,\n",
       "     '10011': 257,\n",
       "     '10100': 107,\n",
       "     '10101': 333,\n",
       "     '10110': 110,\n",
       "     '10111': 267,\n",
       "     '11000': 102,\n",
       "     '11001': 283,\n",
       "     '11010': 78,\n",
       "     '11011': 228,\n",
       "     '11100': 110,\n",
       "     '11101': 247,\n",
       "     '11110': 91,\n",
       "     '11111': 219},\n",
       "    'date': '2017-10-10T12:09:17.687Z',\n",
       "    'time': 520.0897839069366},\n",
       "   'executionId': '308e686cb4aac64347be7a0f1be83ff9',\n",
       "   'qasm': '\\ninclude \"qelib1.inc\";\\nqreg q[5];\\ncreg c[5];\\nu2(0.0,3.141592653589793) q[3];\\ncx q[3],q[2];\\nu2(0.0,3.141592653589793) q[2];\\nu2(0.0,3.141592653589793) q[3];\\ncx q[3],q[4];\\nu2(0.0,3.141592653589793) q[4];\\nu2(0.0,3.141592653589793) q[3];\\nmeasure q[3] -> c[3];\\ncx q[2],q[1];\\ncx q[2],q[4];\\nu2(0.0,3.141592653589793) q[2];\\nu2(0.0,3.141592653589793) q[4];\\ncx q[2],q[4];\\nu2(0.0,3.141592653589793) q[2];\\nu2(0.0,3.141592653589793) q[4];\\ncx q[2],q[4];\\nu2(0.0,3.141592653589793) q[4];\\nu2(0.0,3.141592653589793) q[4];\\nu1(3.141592653589793) q[4];\\nmeasure q[4] -> c[4];\\ncx q[2],q[0];\\ncx q[1],q[0];\\nu2(0.0,3.141592653589793) q[1];\\nmeasure q[1] -> c[1];\\nmeasure q[0] -> c[0];\\nu2(0.0,3.141592653589793) q[2];\\nu1(3.141592653589793) q[2];\\nmeasure q[2] -> c[2];\\n',\n",
       "   'status': 'DONE'},\n",
       "  {'data': {'counts': {'00000': 3693,\n",
       "     '00001': 167,\n",
       "     '00010': 43,\n",
       "     '00011': 4,\n",
       "     '00100': 326,\n",
       "     '00101': 3489,\n",
       "     '00110': 3,\n",
       "     '00111': 49,\n",
       "     '01000': 144,\n",
       "     '01001': 4,\n",
       "     '01010': 2,\n",
       "     '01100': 15,\n",
       "     '01101': 132,\n",
       "     '01111': 1,\n",
       "     '10000': 47,\n",
       "     '10001': 4,\n",
       "     '10010': 1,\n",
       "     '10100': 9,\n",
       "     '10101': 56,\n",
       "     '11000': 2,\n",
       "     '11101': 1},\n",
       "    'date': '2017-10-10T12:09:17.941Z',\n",
       "    'time': 520.0897839069366},\n",
       "   'executionId': 'd6ff5cdc37fc9b5685d1b1e2cda842f9',\n",
       "   'qasm': '\\ninclude \"qelib1.inc\";\\nqreg q[5];\\ncreg c[5];\\nmeasure q[4] -> c[4];\\nmeasure q[3] -> c[3];\\nu2(0.0,3.141592653589793) q[2];\\nmeasure q[1] -> c[1];\\ncx q[2],q[0];\\nu1(3.141592653589793) q[0];\\nmeasure q[0] -> c[0];\\nmeasure q[2] -> c[2];\\n',\n",
       "   'status': 'DONE'},\n",
       "  {'data': {'counts': {'00000': 3833,\n",
       "     '00001': 61,\n",
       "     '00010': 172,\n",
       "     '00011': 4,\n",
       "     '00100': 455,\n",
       "     '00101': 4,\n",
       "     '00110': 3177,\n",
       "     '00111': 33,\n",
       "     '01000': 167,\n",
       "     '01001': 1,\n",
       "     '01010': 9,\n",
       "     '01011': 1,\n",
       "     '01100': 20,\n",
       "     '01101': 2,\n",
       "     '01110': 132,\n",
       "     '01111': 1,\n",
       "     '10000': 54,\n",
       "     '10001': 3,\n",
       "     '10010': 2,\n",
       "     '10100': 9,\n",
       "     '10110': 46,\n",
       "     '11000': 1,\n",
       "     '11110': 5},\n",
       "    'date': '2017-10-10T12:09:18.202Z',\n",
       "    'time': 520.0897839069366},\n",
       "   'executionId': 'fab802b33cf463eec11a77a717749406',\n",
       "   'qasm': '\\ninclude \"qelib1.inc\";\\nqreg q[5];\\ncreg c[5];\\nmeasure q[4] -> c[4];\\nmeasure q[3] -> c[3];\\nu2(0.0,3.141592653589793) q[2];\\ncx q[2],q[1];\\nmeasure q[1] -> c[1];\\nmeasure q[2] -> c[2];\\nmeasure q[0] -> c[0];\\n',\n",
       "   'status': 'DONE'},\n",
       "  {'data': {'counts': {'00000': 2066,\n",
       "     '00001': 27,\n",
       "     '00010': 1919,\n",
       "     '00011': 25,\n",
       "     '00100': 2122,\n",
       "     '00101': 20,\n",
       "     '00110': 1557,\n",
       "     '00111': 19,\n",
       "     '01000': 86,\n",
       "     '01001': 2,\n",
       "     '01010': 87,\n",
       "     '01011': 1,\n",
       "     '01100': 86,\n",
       "     '01101': 3,\n",
       "     '01110': 71,\n",
       "     '10000': 19,\n",
       "     '10010': 28,\n",
       "     '10011': 1,\n",
       "     '10100': 29,\n",
       "     '10110': 18,\n",
       "     '11000': 1,\n",
       "     '11010': 1,\n",
       "     '11100': 2,\n",
       "     '11110': 2},\n",
       "    'date': '2017-10-10T12:09:18.530Z',\n",
       "    'time': 520.0897839069366},\n",
       "   'executionId': '15f10d381ab2edef57f6a4cab614ee70',\n",
       "   'qasm': '\\ninclude \"qelib1.inc\";\\nqreg q[5];\\ncreg c[5];\\nmeasure q[4] -> c[4];\\nmeasure q[3] -> c[3];\\nu2(0.0,3.141592653589793) q[2];\\nu2(0.0,3.141592653589793) q[1];\\nu1(3.141592653589793) q[1];\\nu2(0.0,3.141592653589793) q[1];\\ncx q[2],q[1];\\nu2(0.0,3.141592653589793) q[1];\\nmeasure q[1] -> c[1];\\nmeasure q[2] -> c[2];\\nmeasure q[0] -> c[0];\\n',\n",
       "   'status': 'DONE'},\n",
       "  {'data': {'counts': {'00000': 880,\n",
       "     '00001': 10,\n",
       "     '00010': 295,\n",
       "     '00011': 2,\n",
       "     '00100': 430,\n",
       "     '00101': 3,\n",
       "     '00110': 745,\n",
       "     '00111': 9,\n",
       "     '01000': 474,\n",
       "     '01001': 8,\n",
       "     '01010': 539,\n",
       "     '01011': 2,\n",
       "     '01100': 633,\n",
       "     '01101': 2,\n",
       "     '01110': 372,\n",
       "     '01111': 4,\n",
       "     '10000': 524,\n",
       "     '10001': 5,\n",
       "     '10010': 493,\n",
       "     '10011': 9,\n",
       "     '10100': 540,\n",
       "     '10101': 6,\n",
       "     '10110': 374,\n",
       "     '10111': 5,\n",
       "     '11000': 698,\n",
       "     '11001': 8,\n",
       "     '11010': 254,\n",
       "     '11011': 1,\n",
       "     '11100': 349,\n",
       "     '11101': 3,\n",
       "     '11110': 510,\n",
       "     '11111': 5},\n",
       "    'date': '2017-10-10T12:09:18.791Z',\n",
       "    'time': 520.0897839069366},\n",
       "   'executionId': '408e9237c836311eb89730aeccdf624c',\n",
       "   'qasm': '\\ninclude \"qelib1.inc\";\\nqreg q[5];\\ncreg c[5];\\nu2(0.0,3.141592653589793) q[3];\\ncx q[3],q[4];\\nu2(0.0,3.141592653589793) q[4];\\nu1(3.141592653589793) q[4];\\nu1(3.141592653589793) q[4];\\nmeasure q[4] -> c[4];\\ncx q[3],q[2];\\nu2(0.0,3.141592653589793) q[3];\\nmeasure q[3] -> c[3];\\ncx q[2],q[1];\\nu2(0.0,3.141592653589793) q[2];\\nu1(3.141592653589793) q[2];\\nmeasure q[2] -> c[2];\\nu2(0.0,3.141592653589793) q[1];\\nu1(3.141592653589793) q[1];\\nmeasure q[1] -> c[1];\\nmeasure q[0] -> c[0];\\n',\n",
       "   'status': 'DONE'},\n",
       "  {'data': {'counts': {'00000': 101,\n",
       "     '00001': 68,\n",
       "     '00010': 630,\n",
       "     '00011': 24,\n",
       "     '00100': 471,\n",
       "     '00101': 28,\n",
       "     '00110': 47,\n",
       "     '00111': 18,\n",
       "     '01000': 405,\n",
       "     '01001': 100,\n",
       "     '01010': 2606,\n",
       "     '01011': 62,\n",
       "     '01100': 188,\n",
       "     '01101': 28,\n",
       "     '01110': 97,\n",
       "     '01111': 43,\n",
       "     '10000': 74,\n",
       "     '10001': 43,\n",
       "     '10010': 33,\n",
       "     '10011': 4,\n",
       "     '10100': 2178,\n",
       "     '10101': 129,\n",
       "     '10110': 109,\n",
       "     '10111': 31,\n",
       "     '11000': 26,\n",
       "     '11001': 42,\n",
       "     '11010': 62,\n",
       "     '11011': 7,\n",
       "     '11100': 419,\n",
       "     '11101': 47,\n",
       "     '11110': 41,\n",
       "     '11111': 31},\n",
       "    'date': '2017-10-10T12:09:19.052Z',\n",
       "    'time': 520.0897839069366},\n",
       "   'executionId': 'dc3358f63329533862942010efd84457',\n",
       "   'qasm': '\\ninclude \"qelib1.inc\";\\nqreg q[5];\\ncreg c[5];\\nu2(0.0,3.141592653589793) q[3];\\nu2(0.0,3.141592653589793) q[2];\\ncx q[2],q[0];\\ncx q[2],q[1];\\nu2(0.0,3.141592653589793) q[2];\\ncx q[3],q[2];\\nu2(0.0,3.141592653589793) q[2];\\ncx q[2],q[4];\\nmeasure q[4] -> c[4];\\nu2(0.0,3.141592653589793) q[3];\\nu3(3.141592653589793,0.0,3.141592653589793) q[3];\\nmeasure q[3] -> c[3];\\nu3(3.141592653589793,0.0,3.141592653589793) q[1];\\nmeasure q[1] -> c[1];\\ncx q[2],q[0];\\nmeasure q[0] -> c[0];\\nmeasure q[2] -> c[2];\\n',\n",
       "   'status': 'DONE'},\n",
       "  {'data': {'counts': {'00000': 850,\n",
       "     '00001': 66,\n",
       "     '00010': 451,\n",
       "     '00011': 32,\n",
       "     '00100': 527,\n",
       "     '00101': 61,\n",
       "     '00110': 624,\n",
       "     '00111': 37,\n",
       "     '01000': 615,\n",
       "     '01001': 79,\n",
       "     '01010': 521,\n",
       "     '01011': 58,\n",
       "     '01100': 775,\n",
       "     '01101': 64,\n",
       "     '01110': 571,\n",
       "     '01111': 53,\n",
       "     '10000': 311,\n",
       "     '10001': 38,\n",
       "     '10010': 405,\n",
       "     '10011': 24,\n",
       "     '10100': 506,\n",
       "     '10101': 35,\n",
       "     '10110': 273,\n",
       "     '10111': 26,\n",
       "     '11000': 224,\n",
       "     '11001': 25,\n",
       "     '11010': 317,\n",
       "     '11011': 21,\n",
       "     '11100': 372,\n",
       "     '11101': 38,\n",
       "     '11110': 167,\n",
       "     '11111': 26},\n",
       "    'date': '2017-10-10T12:09:19.316Z',\n",
       "    'time': 520.0897839069366},\n",
       "   'executionId': '3fc2b83dd99817057dd53e8ced3d5d26',\n",
       "   'qasm': '\\ninclude \"qelib1.inc\";\\nqreg q[5];\\ncreg c[5];\\nu2(0.0,3.141592653589793) q[3];\\nu2(0.0,3.141592653589793) q[2];\\ncx q[2],q[0];\\ncx q[2],q[1];\\nu2(0.0,3.141592653589793) q[2];\\ncx q[3],q[2];\\nu2(0.0,3.141592653589793) q[2];\\ncx q[2],q[4];\\nu2(0.0,3.141592653589793) q[4];\\nu1(3.141592653589793) q[4];\\nmeasure q[4] -> c[4];\\nu2(0.0,3.141592653589793) q[3];\\nu2(0.0,3.141592653589793) q[3];\\nmeasure q[3] -> c[3];\\nu2(0.0,3.141592653589793) q[1];\\nu1(3.141592653589793) q[1];\\nmeasure q[1] -> c[1];\\ncx q[2],q[0];\\nu2(0.0,3.141592653589793) q[2];\\nmeasure q[2] -> c[2];\\nmeasure q[0] -> c[0];\\n',\n",
       "   'status': 'DONE'},\n",
       "  {'data': {'counts': {'00000': 2158,\n",
       "     '00001': 18,\n",
       "     '00010': 1747,\n",
       "     '00011': 15,\n",
       "     '00100': 2133,\n",
       "     '00101': 24,\n",
       "     '00110': 1626,\n",
       "     '00111': 21,\n",
       "     '01000': 102,\n",
       "     '01010': 64,\n",
       "     '01100': 93,\n",
       "     '01110': 78,\n",
       "     '01111': 1,\n",
       "     '10000': 26,\n",
       "     '10010': 19,\n",
       "     '10100': 32,\n",
       "     '10101': 3,\n",
       "     '10110': 25,\n",
       "     '11000': 1,\n",
       "     '11010': 2,\n",
       "     '11100': 2,\n",
       "     '11110': 2},\n",
       "    'date': '2017-10-10T12:09:19.583Z',\n",
       "    'time': 520.0897839069366},\n",
       "   'executionId': '8a73c01652a2c85f3376ce274d03d268',\n",
       "   'qasm': '\\ninclude \"qelib1.inc\";\\nqreg q[5];\\ncreg c[5];\\nmeasure q[4] -> c[4];\\nmeasure q[3] -> c[3];\\nu2(0.0,3.141592653589793) q[2];\\nmeasure q[2] -> c[2];\\nu2(0.0,3.141592653589793) q[1];\\nu1(3.141592653589793) q[1];\\nmeasure q[1] -> c[1];\\nmeasure q[0] -> c[0];\\n',\n",
       "   'status': 'DONE'}],\n",
       " 'shots': 8192,\n",
       " 'status': 'COMPLETED',\n",
       " 'usedCredits': 5,\n",
       " 'userId': '0d83124f55150d92e1aadeb803edbf06'}"
      ]
     },
     "execution_count": 56,
     "metadata": {},
     "output_type": "execute_result"
    }
   ],
   "source": [
    "job_result"
   ]
  },
  {
   "cell_type": "code",
   "execution_count": 62,
   "metadata": {
    "collapsed": false,
    "deletable": true,
    "editable": true
   },
   "outputs": [],
   "source": [
    "exptool.fetch_previous('timed_out_copy.txt',api)"
   ]
  },
  {
   "cell_type": "code",
   "execution_count": null,
   "metadata": {
    "collapsed": false,
    "deletable": true,
    "editable": true
   },
   "outputs": [],
   "source": []
  },
  {
   "cell_type": "code",
   "execution_count": null,
   "metadata": {
    "collapsed": false,
    "deletable": true,
    "editable": true
   },
   "outputs": [],
   "source": []
  },
  {
   "cell_type": "code",
   "execution_count": 60,
   "metadata": {
    "collapsed": true,
    "deletable": true,
    "editable": true
   },
   "outputs": [],
   "source": []
  },
  {
   "cell_type": "code",
   "execution_count": 61,
   "metadata": {
    "collapsed": true,
    "deletable": true,
    "editable": true
   },
   "outputs": [],
   "source": []
  },
  {
   "cell_type": "code",
   "execution_count": null,
   "metadata": {
    "collapsed": false,
    "deletable": true,
    "editable": true
   },
   "outputs": [],
   "source": []
  },
  {
   "cell_type": "code",
   "execution_count": null,
   "metadata": {
    "collapsed": false,
    "deletable": true,
    "editable": true
   },
   "outputs": [],
   "source": []
  },
  {
   "cell_type": "code",
   "execution_count": 97,
   "metadata": {
    "collapsed": false,
    "deletable": true,
    "editable": true
   },
   "outputs": [
    {
     "data": {
      "text/plain": [
       "'4O'"
      ]
     },
     "execution_count": 97,
     "metadata": {},
     "output_type": "execute_result"
    }
   ],
   "source": [
    "a = '3ndfo4O'\n",
    "a[len(a)-2:len(a)]"
   ]
  },
  {
   "cell_type": "code",
   "execution_count": null,
   "metadata": {
    "collapsed": true,
    "deletable": true,
    "editable": true
   },
   "outputs": [],
   "source": []
  }
 ],
 "metadata": {
  "kernelspec": {
   "display_name": "Python 3",
   "language": "python",
   "name": "python3"
  },
  "language_info": {
   "codemirror_mode": {
    "name": "ipython",
    "version": 3
   },
   "file_extension": ".py",
   "mimetype": "text/x-python",
   "name": "python",
   "nbconvert_exporter": "python",
   "pygments_lexer": "ipython3",
   "version": "3.6.2"
  }
 },
 "nbformat": 4,
 "nbformat_minor": 2
}
