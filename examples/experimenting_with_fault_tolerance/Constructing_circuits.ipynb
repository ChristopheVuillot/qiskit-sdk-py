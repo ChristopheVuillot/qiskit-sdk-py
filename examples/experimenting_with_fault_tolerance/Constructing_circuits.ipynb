{
 "cells": [
  {
   "cell_type": "code",
   "execution_count": 1,
   "metadata": {
    "collapsed": true,
    "deletable": true,
    "editable": true
   },
   "outputs": [],
   "source": [
    "import time\n",
    "import random\n",
    "import numpy as np\n",
    "import importlib\n",
    "\n",
    "import sys\n",
    "sys.path.append(\"../../\")"
   ]
  },
  {
   "cell_type": "code",
   "execution_count": 2,
   "metadata": {
    "collapsed": false,
    "deletable": true,
    "editable": true
   },
   "outputs": [],
   "source": [
    "from qiskit import QuantumProgram, QuantumCircuit\n",
    "import Qconfig"
   ]
  },
  {
   "cell_type": "code",
   "execution_count": 3,
   "metadata": {
    "collapsed": false,
    "deletable": true,
    "editable": true
   },
   "outputs": [
    {
     "data": {
      "text/plain": [
       "<module 'tools.Experiment_tools' from '/home/christophe/Work/Programming/IBMQE/qiskit-sdk-py/examples/experimenting_with_fault_tolerance/tools/Experiment_tools.py'>"
      ]
     },
     "execution_count": 3,
     "metadata": {},
     "output_type": "execute_result"
    }
   ],
   "source": [
    "import tools.Experiment_tools as exptool\n",
    "importlib.reload(exptool)"
   ]
  },
  {
   "cell_type": "code",
   "execution_count": 4,
   "metadata": {
    "collapsed": false,
    "deletable": true,
    "editable": true
   },
   "outputs": [],
   "source": [
    "qprogram = QuantumProgram()\n",
    "qprogram.set_api(Qconfig.APItoken, Qconfig.config[\"url\"])"
   ]
  },
  {
   "cell_type": "code",
   "execution_count": 5,
   "metadata": {
    "collapsed": false,
    "deletable": true,
    "editable": true
   },
   "outputs": [
    {
     "data": {
      "text/plain": [
       "['ibmqx4',\n",
       " 'ibmqx2',\n",
       " 'ibmqx5',\n",
       " 'ibmqx_qasm_simulator',\n",
       " 'local_qasm_simulator',\n",
       " 'local_unitary_simulator']"
      ]
     },
     "execution_count": 5,
     "metadata": {},
     "output_type": "execute_result"
    }
   ],
   "source": [
    "qprogram.available_backends()"
   ]
  },
  {
   "cell_type": "code",
   "execution_count": 17,
   "metadata": {
    "collapsed": false,
    "deletable": true,
    "editable": true
   },
   "outputs": [
    {
     "data": {
      "text/plain": [
       "{'available': True, 'backend': 'ibmqx4', 'busy': False, 'pending_jobs': 12}"
      ]
     },
     "execution_count": 17,
     "metadata": {},
     "output_type": "execute_result"
    }
   ],
   "source": [
    "qprogram.get_backend_status(\"ibmqx4\")"
   ]
  },
  {
   "cell_type": "code",
   "execution_count": 7,
   "metadata": {
    "collapsed": false,
    "deletable": true,
    "editable": true
   },
   "outputs": [
    {
     "data": {
      "text/plain": [
       "{'basis_gates': 'SU2+CNOT',\n",
       " 'chip_name': 'Raven',\n",
       " 'coupling_map': [[1, 0], [2, 0], [2, 1], [2, 4], [3, 2], [3, 4]],\n",
       " 'description': '5 qubit transmon bowtie chip 3',\n",
       " 'n_qubits': 5,\n",
       " 'name': 'ibmqx4',\n",
       " 'online_date': '2017-09-18T11:00:00.000Z',\n",
       " 'simulator': False,\n",
       " 'url': 'https://ibm.biz/qiskit-ibmqx4',\n",
       " 'version': '1'}"
      ]
     },
     "execution_count": 7,
     "metadata": {},
     "output_type": "execute_result"
    }
   ],
   "source": [
    "config = qprogram.get_backend_configuration(\"ibmqx4\",list_format=True)\n",
    "config"
   ]
  },
  {
   "cell_type": "code",
   "execution_count": 8,
   "metadata": {
    "collapsed": true,
    "deletable": true,
    "editable": true
   },
   "outputs": [],
   "source": [
    "n = config['n_qubits']\n",
    "q = qprogram.create_quantum_register(\"q\",n)\n",
    "c = qprogram.create_classical_register(\"c\",n)"
   ]
  },
  {
   "cell_type": "code",
   "execution_count": 9,
   "metadata": {
    "collapsed": false,
    "deletable": true,
    "editable": true
   },
   "outputs": [
    {
     "name": "stdout",
     "output_type": "stream",
     "text": [
      "176\n",
      "245\n"
     ]
    }
   ],
   "source": [
    "circuit_names = exptool.all_circuits(qprogram,config['coupling_map'])\n",
    "print(len(circuit_names))\n",
    "print(len(qprogram.get_circuit_names()))"
   ]
  },
  {
   "cell_type": "code",
   "execution_count": 10,
   "metadata": {
    "collapsed": false,
    "deletable": true,
    "editable": true
   },
   "outputs": [
    {
     "name": "stdout",
     "output_type": "stream",
     "text": [
      "OPENQASM 2.0;\n",
      "include \"qelib1.inc\";\n",
      "qreg q[5];\n",
      "creg c[5];\n",
      "x q[3];\n",
      "h q[3];\n",
      "h q[4];\n",
      "h q[4];\n",
      "cx q[3],q[4];\n",
      "h q[4];\n",
      "x q[3];\n",
      "measure q[0] -> c[0];\n",
      "measure q[1] -> c[1];\n",
      "measure q[2] -> c[2];\n",
      "measure q[3] -> c[3];\n",
      "measure q[4] -> c[4];\n",
      "\n"
     ]
    }
   ],
   "source": [
    "print(qprogram.get_circuit(\"bMX2-CZ-HHS-X1|00>[3, 4]\").qasm())"
   ]
  },
  {
   "cell_type": "code",
   "execution_count": 11,
   "metadata": {
    "collapsed": true,
    "deletable": true,
    "editable": true
   },
   "outputs": [],
   "source": [
    "rand_perm_names = np.random.permutation(circuit_names)\n",
    "batches = [list(rand_perm_names[50*j:50*(j+1)]) for j in range(0,1+int(len(circuit_names)/50))]"
   ]
  },
  {
   "cell_type": "code",
   "execution_count": 12,
   "metadata": {
    "collapsed": false,
    "deletable": true,
    "editable": true
   },
   "outputs": [],
   "source": [
    "compiled_qobj_list = [qprogram.compile(batch, \n",
    "                                       backend='ibmqx4', \n",
    "                                       config=None,\n",
    "                                       silent=False, \n",
    "                                       basis_gates=None, \n",
    "                                       coupling_map=None, \n",
    "                                       initial_layout=None, \n",
    "                                       shots=8192, \n",
    "                                       max_credits=5, \n",
    "                                       seed=None) for batch in batches]"
   ]
  },
  {
   "cell_type": "code",
   "execution_count": 18,
   "metadata": {
    "collapsed": false,
    "deletable": true,
    "editable": true
   },
   "outputs": [],
   "source": [
    "qprogram.run_batch_async(compiled_qobj_list, wait=30, timeout=1800, silent=True, callback=exptool.post_treatment_list)"
   ]
  },
  {
   "cell_type": "code",
   "execution_count": 31,
   "metadata": {
    "collapsed": false,
    "deletable": true,
    "editable": true
   },
   "outputs": [
    {
     "name": "stdout",
     "output_type": "stream",
     "text": [
      "['bM|00>[3, 4]', 'bM|00>[1, 0]']\n",
      "OPENQASM 2.0;\n",
      "include \"qelib1.inc\";\n",
      "qreg q[5];\n",
      "creg c[5];\n",
      "measure q[4] -> c[4];\n",
      "measure q[3] -> c[3];\n",
      "measure q[2] -> c[2];\n",
      "measure q[1] -> c[1];\n",
      "measure q[0] -> c[0];\n",
      "\n",
      "OPENQASM 2.0;\n",
      "include \"qelib1.inc\";\n",
      "qreg q[5];\n",
      "creg c[5];\n",
      "measure q[4] -> c[4];\n",
      "measure q[3] -> c[3];\n",
      "measure q[2] -> c[2];\n",
      "measure q[1] -> c[1];\n",
      "measure q[0] -> c[0];\n",
      "\n"
     ]
    },
    {
     "ename": "QISKitError",
     "evalue": "'Time Out'",
     "output_type": "error",
     "traceback": [
      "\u001b[0;31m---------------------------------------------------------------------------\u001b[0m",
      "\u001b[0;31mQISKitError\u001b[0m                               Traceback (most recent call last)",
      "\u001b[0;32m<ipython-input-31-b104eacb7598>\u001b[0m in \u001b[0;36m<module>\u001b[0;34m()\u001b[0m\n\u001b[1;32m      2\u001b[0m \u001b[0mprint\u001b[0m\u001b[0;34m(\u001b[0m\u001b[0mrun\u001b[0m\u001b[0;34m.\u001b[0m\u001b[0mget_ran_qasm\u001b[0m\u001b[0;34m(\u001b[0m\u001b[0;34m'bM|00>[3, 4]'\u001b[0m\u001b[0;34m)\u001b[0m\u001b[0;34m)\u001b[0m\u001b[0;34m\u001b[0m\u001b[0m\n\u001b[1;32m      3\u001b[0m \u001b[0mprint\u001b[0m\u001b[0;34m(\u001b[0m\u001b[0mrun\u001b[0m\u001b[0;34m.\u001b[0m\u001b[0mget_ran_qasm\u001b[0m\u001b[0;34m(\u001b[0m\u001b[0;34m'bM|00>[1, 0]'\u001b[0m\u001b[0;34m)\u001b[0m\u001b[0;34m)\u001b[0m\u001b[0;34m\u001b[0m\u001b[0m\n\u001b[0;32m----> 4\u001b[0;31m \u001b[0mrun\u001b[0m\u001b[0;34m.\u001b[0m\u001b[0mget_data\u001b[0m\u001b[0;34m(\u001b[0m\u001b[0;34m'bM|00>[3, 4]'\u001b[0m\u001b[0;34m)\u001b[0m\u001b[0;34m\u001b[0m\u001b[0m\n\u001b[0m",
      "\u001b[0;32m/home/christophe/Work/Programming/IBMQE/qiskit-sdk-py/qiskit/_result.py\u001b[0m in \u001b[0;36mget_data\u001b[0;34m(self, name)\u001b[0m\n\u001b[1;32m    150\u001b[0m             \u001b[0;32mif\u001b[0m \u001b[0misinstance\u001b[0m\u001b[0;34m(\u001b[0m\u001b[0mexception\u001b[0m\u001b[0;34m,\u001b[0m \u001b[0mRegisterSizeError\u001b[0m\u001b[0;34m)\u001b[0m\u001b[0;34m:\u001b[0m\u001b[0;34m\u001b[0m\u001b[0m\n\u001b[1;32m    151\u001b[0m                 \u001b[0;32mraise\u001b[0m \u001b[0mexception\u001b[0m \u001b[0;31m# Re-throw RegisterSizeError\u001b[0m\u001b[0;34m\u001b[0m\u001b[0m\n\u001b[0;32m--> 152\u001b[0;31m             \u001b[0;32mraise\u001b[0m \u001b[0mQISKitError\u001b[0m\u001b[0;34m(\u001b[0m\u001b[0mstr\u001b[0m\u001b[0;34m(\u001b[0m\u001b[0mexception\u001b[0m\u001b[0;34m)\u001b[0m\u001b[0;34m)\u001b[0m\u001b[0;34m\u001b[0m\u001b[0m\n\u001b[0m\u001b[1;32m    153\u001b[0m \u001b[0;34m\u001b[0m\u001b[0m\n\u001b[1;32m    154\u001b[0m         \u001b[0;32mtry\u001b[0m\u001b[0;34m:\u001b[0m\u001b[0;34m\u001b[0m\u001b[0m\n",
      "\u001b[0;31mQISKitError\u001b[0m: 'Time Out'"
     ]
    }
   ],
   "source": [
    "print(run.get_names())\n",
    "print(run.get_ran_qasm('bM|00>[3, 4]'))\n",
    "print(run.get_ran_qasm('bM|00>[1, 0]'))\n",
    "run.get_data('bM|00>[3, 4]')"
   ]
  },
  {
   "cell_type": "code",
   "execution_count": 36,
   "metadata": {
    "collapsed": false,
    "deletable": true,
    "editable": true
   },
   "outputs": [
    {
     "data": {
      "text/plain": [
       "'ERROR'"
      ]
     },
     "execution_count": 36,
     "metadata": {},
     "output_type": "execute_result"
    }
   ],
   "source": [
    "res = qprogram.jobs_results[0]\n",
    "res.get_status()"
   ]
  },
  {
   "cell_type": "code",
   "execution_count": 15,
   "metadata": {
    "collapsed": false,
    "deletable": true,
    "editable": true
   },
   "outputs": [
    {
     "data": {
      "text/plain": [
       "1"
      ]
     },
     "execution_count": 15,
     "metadata": {},
     "output_type": "execute_result"
    }
   ],
   "source": [
    "results = qprogram.jobs_results\n",
    "result = results[0]\n",
    "len(results)"
   ]
  },
  {
   "cell_type": "code",
   "execution_count": 16,
   "metadata": {
    "collapsed": false,
    "deletable": true,
    "editable": true
   },
   "outputs": [
    {
     "data": {
      "text/plain": [
       "'ERROR'"
      ]
     },
     "execution_count": 16,
     "metadata": {},
     "output_type": "execute_result"
    }
   ],
   "source": [
    "result.get_status()"
   ]
  },
  {
   "cell_type": "code",
   "execution_count": 47,
   "metadata": {
    "collapsed": false,
    "deletable": true,
    "editable": true
   },
   "outputs": [],
   "source": [
    "results = qprogram.execute([\"bM|00>[3, 4]\",\"bMX1|00>[3, 4]\"], backend='ibmqx4', shots=1000, max_credits=10, wait=10, timeout=760)"
   ]
  },
  {
   "cell_type": "code",
   "execution_count": 54,
   "metadata": {
    "collapsed": false,
    "deletable": true,
    "editable": true
   },
   "outputs": [
    {
     "name": "stdout",
     "output_type": "stream",
     "text": [
      "{'10000': 10, '00000': 915, '00001': 6, '00010': 13, '00100': 16, '01000': 39, '01100': 1}\n",
      "{'time': 48.44315791130066, 'counts': {'10000': 1, '11000': 6, '00000': 118, '00001': 1, '00010': 1, '00100': 3, '01000': 829, '01001': 9, '01010': 8, '01100': 24}, 'date': '2017-10-03T12:28:52.339Z'}\n"
     ]
    },
    {
     "data": {
      "text/plain": [
       "['bM|00>[3, 4]', 'bMX1|00>[3, 4]']"
      ]
     },
     "execution_count": 54,
     "metadata": {},
     "output_type": "execute_result"
    }
   ],
   "source": [
    "if results.get_status()=='COMPLETED':\n",
    "    print(results.get_counts(\"bM|00>[3, 4]\"))\n",
    "    print(results.get_data(\"bMX1|00>[3, 4]\"))\n",
    "else:\n",
    "    print(results.get_status())\n",
    "results.get_names()"
   ]
  },
  {
   "cell_type": "code",
   "execution_count": 91,
   "metadata": {
    "collapsed": false,
    "deletable": true,
    "editable": true
   },
   "outputs": [
    {
     "name": "stdout",
     "output_type": "stream",
     "text": [
      "Gate error :\n",
      "------------\n",
      "[0.0006009179709377532, 0.0006867731322012238, 0.001631340796924452, 0.0014595792651160289, 0.0017172252255832077]\n",
      "\n",
      "Readout error :\n",
      "---------------\n",
      "[0.033, 0.029, 0.026, 0.134, 0.036]\n",
      "Multi qubit gate error :\n",
      "------------\n",
      "[0.020000606743482918, 0.022706065613666004, 0.024738466135747345, 0.017300151987441892, 0.02236760832218937, 0.025213102663840553]\n"
     ]
    },
    {
     "data": {
      "text/plain": [
       "{'backend': 'ibmqx4',\n",
       " 'last_update_date': '2017-10-02T11:02:06.000Z',\n",
       " 'multi_qubit_gates': [{'gateError': {'date': '2017-10-02T11:02:06Z',\n",
       "    'value': 0.020000606743482918},\n",
       "   'name': 'CX1_0',\n",
       "   'qubits': [1, 0],\n",
       "   'type': 'CX'},\n",
       "  {'gateError': {'date': '2017-10-02T11:02:06Z',\n",
       "    'value': 0.022706065613666004},\n",
       "   'name': 'CX2_0',\n",
       "   'qubits': [2, 0],\n",
       "   'type': 'CX'},\n",
       "  {'gateError': {'date': '2017-10-02T11:02:06Z',\n",
       "    'value': 0.024738466135747345},\n",
       "   'name': 'CX2_1',\n",
       "   'qubits': [2, 1],\n",
       "   'type': 'CX'},\n",
       "  {'gateError': {'date': '2017-10-02T11:02:06Z',\n",
       "    'value': 0.017300151987441892},\n",
       "   'name': 'CX2_4',\n",
       "   'qubits': [2, 4],\n",
       "   'type': 'CX'},\n",
       "  {'gateError': {'date': '2017-10-02T11:02:06Z', 'value': 0.02236760832218937},\n",
       "   'name': 'CX3_2',\n",
       "   'qubits': [3, 2],\n",
       "   'type': 'CX'},\n",
       "  {'gateError': {'date': '2017-10-02T11:02:06Z',\n",
       "    'value': 0.025213102663840553},\n",
       "   'name': 'CX3_4',\n",
       "   'qubits': [3, 4],\n",
       "   'type': 'CX'}],\n",
       " 'qubits': [{'gateError': {'date': '2017-10-02T11:02:06Z',\n",
       "    'value': 0.0006009179709377532},\n",
       "   'name': 'Q0',\n",
       "   'readoutError': {'date': '2017-10-02T11:02:06Z', 'value': 0.033}},\n",
       "  {'gateError': {'date': '2017-10-02T11:02:06Z',\n",
       "    'value': 0.0006867731322012238},\n",
       "   'name': 'Q1',\n",
       "   'readoutError': {'date': '2017-10-02T11:02:06Z', 'value': 0.029}},\n",
       "  {'gateError': {'date': '2017-10-02T11:02:06Z',\n",
       "    'value': 0.001631340796924452},\n",
       "   'name': 'Q2',\n",
       "   'readoutError': {'date': '2017-10-02T11:02:06Z', 'value': 0.026}},\n",
       "  {'gateError': {'date': '2017-10-02T11:02:06Z',\n",
       "    'value': 0.0014595792651160289},\n",
       "   'name': 'Q3',\n",
       "   'readoutError': {'date': '2017-10-02T11:02:06Z', 'value': 0.134}},\n",
       "  {'gateError': {'date': '2017-10-02T11:02:06Z',\n",
       "    'value': 0.0017172252255832077},\n",
       "   'name': 'Q4',\n",
       "   'readoutError': {'date': '2017-10-02T11:02:06Z', 'value': 0.036}}]}"
      ]
     },
     "execution_count": 91,
     "metadata": {},
     "output_type": "execute_result"
    }
   ],
   "source": [
    "calib = qprogram.get_backend_calibration(\"ibmqx4\")\n",
    "print('Gate error :\\n------------')\n",
    "print([item['gateError']['value'] for item in calib['qubits']])\n",
    "print('\\nReadout error :\\n---------------')\n",
    "print([item['readoutError']['value'] for item in calib['qubits']])\n",
    "print('Multi qubit gate error :\\n------------')\n",
    "print([item['gateError']['value'] for item in calib['multi_qubit_gates']])\n",
    "calib"
   ]
  },
  {
   "cell_type": "code",
   "execution_count": null,
   "metadata": {
    "collapsed": false,
    "deletable": true,
    "editable": true
   },
   "outputs": [],
   "source": [
    "param = qprogram.get_backend_parameters(\"ibmqx4\")\n",
    "print('T1:\\n---')\n",
    "print([(item['T1']['value'],item['T1']['unit']) for item in param['qubits']])\n",
    "print('\\nT2:\\n---')\n",
    "print([(item['T2']['value'],item['T2']['unit']) for item in param['qubits']])\n",
    "param"
   ]
  },
  {
   "cell_type": "code",
   "execution_count": null,
   "metadata": {
    "collapsed": true,
    "deletable": true,
    "editable": true
   },
   "outputs": [],
   "source": [
    "# Find a reasonable formula to automatically choose the best two qubits."
   ]
  },
  {
   "cell_type": "code",
   "execution_count": null,
   "metadata": {
    "collapsed": false,
    "deletable": true,
    "editable": true
   },
   "outputs": [],
   "source": [
    "possible_pairs = config['coupling_map']\n",
    "print(possible_pairs)\n",
    "cp = 3 #the chosen pair\n",
    "print(possible_pairs[cp])"
   ]
  },
  {
   "cell_type": "code",
   "execution_count": null,
   "metadata": {
    "collapsed": false,
    "deletable": true,
    "editable": true
   },
   "outputs": [],
   "source": [
    "n = config['n_qubits']\n",
    "q = qprogram.create_quantum_register(\"q\",n)\n",
    "c = qprogram.create_classical_register(\"c\",n)"
   ]
  },
  {
   "cell_type": "code",
   "execution_count": null,
   "metadata": {
    "collapsed": false,
    "deletable": true,
    "editable": true
   },
   "outputs": [],
   "source": [
    "qc_FT = qprogram.create_circuit(\"prep_FT\",[q],[c])\n",
    "qc_FT.h(q[2])\n",
    "qc_FT.cx(q[2],q[0])\n",
    "qc_FT.cx(q[2],q[1])\n",
    "qc_FT.h(q[2])\n",
    "qc_FT.h(q[3])\n",
    "qc_FT.cx(q[3],q[2])\n",
    "qc_FT.h(q[2])\n",
    "qc_FT.h(q[3])\n",
    "qc_FT.cx(q[2],q[4])\n",
    "qc_FT.cx(q[2],q[0])\n",
    "qc_FT.measure(q[0],c[0])\n",
    "qc_FT.measure(q[1],c[1])\n",
    "qc_FT.measure(q[2],c[2])\n",
    "qc_FT.measure(q[3],c[3])\n",
    "qc_FT.measure(q[4],c[4])"
   ]
  },
  {
   "cell_type": "code",
   "execution_count": null,
   "metadata": {
    "collapsed": false,
    "deletable": true,
    "editable": true
   },
   "outputs": [],
   "source": [
    "def swap_circuit(qr,pair,qp):\n",
    "    qcircuitswap = qp.create_circuit(\"SWAP\"+str(pair),[qr],[])\n",
    "    qcircuitswap.cx(qr[pair[0]],qr[pair[1]])\n",
    "    qcircuitswap.h(qr[pair[0]])\n",
    "    qcircuitswap.h(qr[pair[1]])\n",
    "    qcircuitswap.cx(qr[pair[0]],qr[pair[1]])\n",
    "    qcircuitswap.h(qr[pair[0]])\n",
    "    qcircuitswap.h(qr[pair[1]])\n",
    "    qcircuitswap.cx(qr[pair[0]],qr[pair[1]])\n",
    "    return qcircuitswap"
   ]
  },
  {
   "cell_type": "code",
   "execution_count": null,
   "metadata": {
    "collapsed": false,
    "deletable": true,
    "editable": true
   },
   "outputs": [],
   "source": [
    "qc_NFT = qprogram.create_circuit(\"prep_NFT\",[q],[c])\n",
    "qc_NFT.h(q[3])\n",
    "qc_NFT.cx(q[3],q[4])\n",
    "qc_NFT.cx(q[3],q[2])\n",
    "qc_NFT.cx(q[2],q[1])\n",
    "qc_NFT.measure(q[0],c[0])\n",
    "qc_NFT.measure(q[1],c[1])\n",
    "qc_NFT.measure(q[2],c[2])\n",
    "qc_NFT.measure(q[3],c[3])\n",
    "qc_NFT.measure(q[4],c[4])"
   ]
  },
  {
   "cell_type": "code",
   "execution_count": null,
   "metadata": {
    "collapsed": false,
    "deletable": true,
    "editable": true
   },
   "outputs": [],
   "source": [
    "qc_NFTold = qprogram.create_circuit(\"prep_NFTold\",[q],[c])\n",
    "qc_NFTold.h(q[2])\n",
    "qc_NFTold.h(q[3])\n",
    "qc_NFTold.cx(q[3],q[4])\n",
    "qc_NFTold.h(q[4])\n",
    "qc_NFTold.cx(q[2],q[4])\n",
    "qc_NFTold.h(q[4])\n",
    "qc_NFTold.extend(swap_circuit(q,[2,1],qprogram))\n",
    "qc_NFTold.cx(q[3],q[2])\n",
    "qc_NFTold.cx(q[2],q[0])\n",
    "qc_NFTold.h(q[0])\n",
    "qc_NFTold.cx(q[1],q[0])\n",
    "qc_NFTold.h(q[0])\n",
    "qc_NFTold.h(q[1])\n",
    "qc_NFTold.measure(q[0],c[0])\n",
    "qc_NFTold.measure(q[1],c[1])\n",
    "qc_NFTold.measure(q[2],c[2])\n",
    "qc_NFTold.measure(q[3],c[3])\n",
    "qc_NFTold.measure(q[4],c[4])"
   ]
  },
  {
   "cell_type": "code",
   "execution_count": null,
   "metadata": {
    "collapsed": false,
    "deletable": true,
    "editable": true
   },
   "outputs": [],
   "source": [
    "qc_FTv2 = qprogram.create_circuit(\"prep_FTv2\",[q],[c])\n",
    "qc_FTv2.h(q[3])\n",
    "qc_FTv2.cx(q[3],q[2])\n",
    "qc_FTv2.h(q[2])\n",
    "qc_FTv2.h(q[3])\n",
    "qc_FTv2.cx(q[2],q[1])\n",
    "qc_FTv2.cx(q[3],q[4])\n",
    "qc_FTv2.h(q[4])\n",
    "qc_FTv2.extend(swap_circuit(q,[2,4],qprogram))\n",
    "qc_FTv2.cx(q[2],q[0])\n",
    "qc_FTv2.cx(q[1],q[0])\n",
    "qc_FTv2.h(q[4])\n",
    "qc_FTv2.measure(q[0],c[0])\n",
    "qc_FTv2.measure(q[1],c[1])\n",
    "qc_FTv2.measure(q[2],c[2])\n",
    "qc_FTv2.measure(q[3],c[3])\n",
    "qc_FTv2.measure(q[4],c[4])"
   ]
  },
  {
   "cell_type": "code",
   "execution_count": null,
   "metadata": {
    "collapsed": false,
    "deletable": true,
    "editable": true
   },
   "outputs": [],
   "source": [
    "def prep_bare_circuit(pair,qprogram, q, c):\n",
    "    qc_ppBare = qprogram.create_circuit(\"prep_Bare - \"+str(pair),[q],[c])\n",
    "    qc_ppBare.measure(q[pair[0]],c[pair[0]])\n",
    "    qc_ppBare.measure(q[pair[1]],c[pair[1]])\n",
    "    return qc_ppBare\n",
    "qc_ppBare = prep_bare_circuit(possible_pairs[cp],qprogram,q,c)"
   ]
  },
  {
   "cell_type": "code",
   "execution_count": null,
   "metadata": {
    "collapsed": false,
    "deletable": true,
    "editable": true
   },
   "outputs": [],
   "source": [
    "result = qprogram.execute([\"prep_FT\",\"prep_FTv2\",\"prep_NFTold\",\"prep_NFT\",\"prep_Bare - \"+str(possible_pairs[cp])], \"ibmqx4\", shots=8192, max_credits=5, wait=10, timeout=2400)"
   ]
  },
  {
   "cell_type": "code",
   "execution_count": null,
   "metadata": {
    "collapsed": false,
    "deletable": true,
    "editable": true
   },
   "outputs": [],
   "source": [
    "print(result.get_counts(\"prep_FT\"))\n",
    "print(result.get_counts(\"prep_FTv2\"))\n",
    "print(result.get_counts(\"prep_NFT\"))\n",
    "print(result.get_counts(\"prep_NFTold\"))\n",
    "print(result.get_counts(\"prep_Bare - \"+str(possible_pairs[cp])))"
   ]
  },
  {
   "cell_type": "code",
   "execution_count": null,
   "metadata": {
    "collapsed": false,
    "deletable": true,
    "editable": true
   },
   "outputs": [],
   "source": [
    "from qiskit.tools.visualization import plot_state, plot_histogram"
   ]
  },
  {
   "cell_type": "code",
   "execution_count": null,
   "metadata": {
    "collapsed": false,
    "deletable": true,
    "editable": true
   },
   "outputs": [],
   "source": [
    "plot_histogram(result.get_counts(\"prep_FT\"))\n",
    "plot_histogram(result.get_counts(\"prep_FTv2\"))\n",
    "plot_histogram(result.get_counts(\"prep_NFT\"))\n",
    "plot_histogram(result.get_counts(\"prep_NFTold\"))\n",
    "plot_histogram(result.get_counts(\"prep_Bare - \"+str(possible_pairs[cp])))"
   ]
  },
  {
   "cell_type": "code",
   "execution_count": null,
   "metadata": {
    "collapsed": false,
    "deletable": true,
    "editable": true
   },
   "outputs": [],
   "source": [
    "result.get_ran_qasm(\"prep_Bare\")"
   ]
  },
  {
   "cell_type": "code",
   "execution_count": null,
   "metadata": {
    "collapsed": false,
    "deletable": true,
    "editable": true
   },
   "outputs": [],
   "source": [
    "def encoded_X1_circuit(mapping, qp):\n",
    "    qrs = [qp.get_quantum_register(qrn) for qrn in qp.get_quantum_register_names()]\n",
    "    crs = [qp.get_classical_register(crn) for crn in qp.get_classical_register_names()]\n",
    "    qcircuit_encoded_X1 = qp.create_circuit(\"encoded_X1\",qrs,crs)\n",
    "    qcircuit_encoded_X1.x(qrs[0][mapping[0]])\n",
    "    qcircuit_encoded_X1.x(qrs[0][mapping[1]])\n",
    "    return qcircuit_encoded_X1\n",
    "def encoded_X2_circuit(qr, mapping, qp):\n",
    "    qcircuit_encoded_X2 = qp.create_circuit(\"encoded_X2\",[qr],[])\n",
    "    qcircuit_encoded_X2.x(qr[mapping[0]])\n",
    "    qcircuit_encoded_X2.x(qr[mapping[2]])\n",
    "    return qcircuit_encoded_X2\n",
    "def encoded_Z1_circuit(qr, mapping, qp):\n",
    "    qcircuit_encoded_Z1 = qp.create_circuit(\"encoded_Z1\",[qr],[])\n",
    "    qcircuit_encoded_Z1.z(qr[mapping[1]])\n",
    "    qcircuit_encoded_Z1.z(qr[mapping[3]])\n",
    "    return qcircuit_encoded_Z1\n",
    "def encoded_Z2_circuit(qr, mapping, qp):\n",
    "    qcircuit_encoded_Z2 = qp.create_circuit(\"encoded_Z2\",[qr],[])\n",
    "    qcircuit_encoded_Z2.z(qr[mapping[2]])\n",
    "    qcircuit_encoded_Z2.z(qr[mapping[3]])\n",
    "    return qcircuit_encoded_Z2\n",
    "def encoded_CZ_circuit(qr, mapping, qp):\n",
    "    qcircuit_encoded_CZ = qp.create_circuit(\"encoded_CZ\",[qr],[])\n",
    "    qcircuit_encoded_CZ.s(qr[mapping[0]])\n",
    "    qcircuit_encoded_CZ.s(qr[mapping[1]])\n",
    "    qcircuit_encoded_CZ.s(qr[mapping[2]])\n",
    "    qcircuit_encoded_CZ.s(qr[mapping[3]])\n",
    "    return qcircuit_encoded_CZ\n",
    "def encoded_HHS_circuit(qr, mapping, qp):\n",
    "    qcircuit_encoded_HHS = qp.create_circuit(\"encoded_HHS\",[qr],[])\n",
    "    qcircuit_encoded_HHS.h(qr[mapping[0]])\n",
    "    qcircuit_encoded_HHS.h(qr[mapping[1]])\n",
    "    qcircuit_encoded_HHS.h(qr[mapping[2]])\n",
    "    qcircuit_encoded_HHS.h(qr[mapping[3]])\n",
    "    return qcircuit_encoded_HHS"
   ]
  },
  {
   "cell_type": "code",
   "execution_count": null,
   "metadata": {
    "collapsed": false,
    "deletable": true,
    "editable": true
   },
   "outputs": [],
   "source": [
    "encoded_X1_circuit([0,1],qprogram).qasm()"
   ]
  },
  {
   "cell_type": "code",
   "execution_count": null,
   "metadata": {
    "collapsed": false,
    "deletable": true,
    "editable": true
   },
   "outputs": [],
   "source": [
    "#print(qprogram.compile([\"prep_FT\"],backend=\"ibmqx4\")['circuits'][0]['compiled_circuit_qasm'])"
   ]
  },
  {
   "cell_type": "code",
   "execution_count": null,
   "metadata": {
    "collapsed": false,
    "deletable": true,
    "editable": true
   },
   "outputs": [],
   "source": [
    "import csv\n",
    "\n",
    "with open('mycsvfile5.csv', 'w') as f:  # Just use 'w' mode in 3.x\n",
    "    w = csv.DictWriter(f, result.get_counts(\"prep_FT\").keys())\n",
    "    w.writeheader()\n",
    "    w.writerows([result.get_counts(\"prep_FT\"),result.get_counts(\"prep_FTv2\"),result.get_counts(\"prep_NFT\"),result.get_counts(\"prep_NFTold\"),result.get_counts(\"prep_Bare - \"+str(possible_pairs[cp]))])"
   ]
  },
  {
   "cell_type": "code",
   "execution_count": null,
   "metadata": {
    "collapsed": false,
    "deletable": true,
    "editable": true
   },
   "outputs": [],
   "source": [
    "print(result.get_ran_qasm(\"prep_FT\") + '\\n')\n",
    "print(result.get_ran_qasm(\"prep_FTv2\") + '\\n')\n",
    "print(result.get_ran_qasm(\"prep_NFT\") + '\\n')\n",
    "print(result.get_ran_qasm(\"prep_NFTold\") + '\\n')\n",
    "print(result.get_ran_qasm(\"prep_Bare - \"+str(possible_pairs[cp])) + '\\n')"
   ]
  },
  {
   "cell_type": "code",
   "execution_count": null,
   "metadata": {
    "collapsed": false,
    "deletable": true,
    "editable": true
   },
   "outputs": [],
   "source": [
    "def convert_rate(rT, rG):\n",
    "    if rT['unit']=='ns':\n",
    "        mT = 10**(-9)\n",
    "    elif rT['unit']=='µs':\n",
    "        mT = 10**(-6)\n",
    "    else:\n",
    "        mT = 1\n",
    "    if rG['unit']=='ns':\n",
    "        mG = 10**(-9)\n",
    "    elif rG['unit']=='µs':\n",
    "        mG = 10**(-6)\n",
    "    else:\n",
    "        mG = 1\n",
    "    return 1-np.exp(-rG['value']*mG/(rT['value']*mT))\n",
    "        \n",
    "\n",
    "def rank_qubit_pairs(qp,backend):\n",
    "    config = qp.get_backend_configuration(backend,list_format=True)\n",
    "    calib = qp.get_backend_calibration(backend)\n",
    "    param = qp.get_backend_parameters(backend)\n",
    "    n = config['n_qubits']\n",
    "    pairs_numbers = dict([(tuple(c),[]) for c in config['coupling_map']])\n",
    "    for p,s in pairs_numbers.items():\n",
    "        s.append(calib['qubits'][p[0]]['gateError']['value'])\n",
    "        s.append(calib['qubits'][p[0]]['readoutError']['value'])\n",
    "        s.append(calib['qubits'][p[1]]['gateError']['value'])\n",
    "        s.append(calib['qubits'][p[1]]['readoutError']['value'])\n",
    "        for r in calib['multi_qubit_gates']:\n",
    "            if r['qubits']==list(p):\n",
    "                s.append(r['gateError']['value'])\n",
    "        s.append(convert_rate(param['qubits'][p[0]]['T1'],param['qubits'][p[0]]['gateTime']))\n",
    "        s.append(convert_rate(param['qubits'][p[0]]['T2'],param['qubits'][p[0]]['gateTime']))\n",
    "        s.append(convert_rate(param['qubits'][p[1]]['T1'],param['qubits'][p[1]]['gateTime']))\n",
    "        s.append(convert_rate(param['qubits'][p[1]]['T2'],param['qubits'][p[1]]['gateTime']))\n",
    "    for p,s in pairs_numbers.items():\n",
    "        pairs_numbers[p] = sorted(s,reverse=True)\n",
    "    return (sorted(pairs_numbers,key=pairs_numbers.__getitem__),pairs_numbers)\n",
    "\n",
    "        \n",
    "        \n",
    "    \n",
    "    \n",
    "    \n",
    "    \n",
    "\n",
    "\n",
    "    "
   ]
  },
  {
   "cell_type": "code",
   "execution_count": null,
   "metadata": {
    "collapsed": false,
    "deletable": true,
    "editable": true
   },
   "outputs": [],
   "source": [
    "(sorted_pairs,pairs_dict) = rank_qubit_pairs(qprogram,\"ibmqx4\")"
   ]
  },
  {
   "cell_type": "code",
   "execution_count": null,
   "metadata": {
    "collapsed": false,
    "deletable": true,
    "editable": true
   },
   "outputs": [],
   "source": [
    "sorted_pairs"
   ]
  },
  {
   "cell_type": "code",
   "execution_count": null,
   "metadata": {
    "collapsed": false,
    "deletable": true,
    "editable": true
   },
   "outputs": [],
   "source": [
    "bare_programs_list = []\n",
    "bare_program_names_list = []\n",
    "for p in sorted_pairs:\n",
    "    bare_programs_list.append(prep_bare_circuit(p,qprogram,q,c))\n",
    "    bare_program_names_list.append(\"prep_Bare - \"+str(p))\n"
   ]
  },
  {
   "cell_type": "code",
   "execution_count": null,
   "metadata": {
    "collapsed": false,
    "deletable": true,
    "editable": true
   },
   "outputs": [],
   "source": [
    "bare_program_names_list"
   ]
  },
  {
   "cell_type": "code",
   "execution_count": null,
   "metadata": {
    "collapsed": true,
    "deletable": true,
    "editable": true
   },
   "outputs": [],
   "source": [
    "result_bare = qprogram.execute(bare_program_names_list, \"ibmqx4\", shots=8192, max_credits=5, wait=10, timeout=2400)"
   ]
  },
  {
   "cell_type": "code",
   "execution_count": null,
   "metadata": {
    "collapsed": false,
    "deletable": true,
    "editable": true
   },
   "outputs": [],
   "source": [
    "with open('mycsvfile_bare2.csv', 'w') as f:  # Just use 'w' mode in 3.x\n",
    "    w = csv.DictWriter(f, [('{0:0'+str(n)+'b}').format(j) for j in range(0,2**n)])\n",
    "    w.writeheader()\n",
    "    w.writerows([result_bare.get_counts(name) for name in bare_program_names_list])"
   ]
  },
  {
   "cell_type": "code",
   "execution_count": null,
   "metadata": {
    "collapsed": false,
    "deletable": true,
    "editable": true
   },
   "outputs": [],
   "source": []
  },
  {
   "cell_type": "code",
   "execution_count": 33,
   "metadata": {
    "collapsed": false,
    "deletable": true,
    "editable": true
   },
   "outputs": [
    {
     "data": {
      "text/plain": [
       "['00000',\n",
       " '00001',\n",
       " '00010',\n",
       " '00011',\n",
       " '00100',\n",
       " '00101',\n",
       " '00110',\n",
       " '00111',\n",
       " '01000',\n",
       " '01001',\n",
       " '01010',\n",
       " '01011',\n",
       " '01100',\n",
       " '01101',\n",
       " '01110',\n",
       " '01111',\n",
       " '10000',\n",
       " '10001',\n",
       " '10010',\n",
       " '10011',\n",
       " '10100',\n",
       " '10101',\n",
       " '10110',\n",
       " '10111',\n",
       " '11000',\n",
       " '11001',\n",
       " '11010',\n",
       " '11011',\n",
       " '11100',\n",
       " '11101',\n",
       " '11110',\n",
       " '11111']"
      ]
     },
     "execution_count": 33,
     "metadata": {},
     "output_type": "execute_result"
    }
   ],
   "source": [
    "[('{0:0'+str(n)+'b}').format(j) for j in range(0,2**n)]"
   ]
  },
  {
   "cell_type": "code",
   "execution_count": null,
   "metadata": {
    "collapsed": false,
    "deletable": true,
    "editable": true
   },
   "outputs": [],
   "source": []
  },
  {
   "cell_type": "code",
   "execution_count": null,
   "metadata": {
    "collapsed": false,
    "deletable": true,
    "editable": true
   },
   "outputs": [],
   "source": []
  },
  {
   "cell_type": "code",
   "execution_count": null,
   "metadata": {
    "collapsed": false,
    "deletable": true,
    "editable": true
   },
   "outputs": [],
   "source": []
  },
  {
   "cell_type": "code",
   "execution_count": null,
   "metadata": {
    "collapsed": false,
    "deletable": true,
    "editable": true
   },
   "outputs": [],
   "source": []
  },
  {
   "cell_type": "code",
   "execution_count": null,
   "metadata": {
    "collapsed": false,
    "deletable": true,
    "editable": true
   },
   "outputs": [],
   "source": []
  },
  {
   "cell_type": "code",
   "execution_count": null,
   "metadata": {
    "collapsed": false,
    "deletable": true,
    "editable": true
   },
   "outputs": [],
   "source": []
  },
  {
   "cell_type": "code",
   "execution_count": null,
   "metadata": {
    "collapsed": false,
    "deletable": true,
    "editable": true
   },
   "outputs": [],
   "source": []
  },
  {
   "cell_type": "code",
   "execution_count": 118,
   "metadata": {
    "collapsed": false,
    "deletable": true,
    "editable": true
   },
   "outputs": [
    {
     "data": {
      "text/plain": [
       "3"
      ]
     },
     "execution_count": 118,
     "metadata": {},
     "output_type": "execute_result"
    }
   ],
   "source": [
    "int(len(circuit_names)/50)"
   ]
  },
  {
   "cell_type": "code",
   "execution_count": 14,
   "metadata": {
    "collapsed": false,
    "deletable": true,
    "editable": true
   },
   "outputs": [],
   "source": [
    "l = [1,2,3,4,5,6,7]"
   ]
  },
  {
   "cell_type": "code",
   "execution_count": 15,
   "metadata": {
    "collapsed": false,
    "deletable": true,
    "editable": true
   },
   "outputs": [
    {
     "data": {
      "text/plain": [
       "[1]"
      ]
     },
     "execution_count": 15,
     "metadata": {},
     "output_type": "execute_result"
    }
   ],
   "source": [
    "l[0:1]"
   ]
  },
  {
   "cell_type": "code",
   "execution_count": null,
   "metadata": {
    "collapsed": false,
    "deletable": true,
    "editable": true
   },
   "outputs": [],
   "source": []
  },
  {
   "cell_type": "code",
   "execution_count": null,
   "metadata": {
    "collapsed": false,
    "deletable": true,
    "editable": true
   },
   "outputs": [],
   "source": []
  },
  {
   "cell_type": "code",
   "execution_count": null,
   "metadata": {
    "collapsed": false,
    "deletable": true,
    "editable": true
   },
   "outputs": [],
   "source": []
  },
  {
   "cell_type": "code",
   "execution_count": null,
   "metadata": {
    "collapsed": false,
    "deletable": true,
    "editable": true
   },
   "outputs": [],
   "source": []
  },
  {
   "cell_type": "code",
   "execution_count": null,
   "metadata": {
    "collapsed": false,
    "deletable": true,
    "editable": true
   },
   "outputs": [],
   "source": []
  },
  {
   "cell_type": "code",
   "execution_count": null,
   "metadata": {
    "collapsed": false,
    "deletable": true,
    "editable": true
   },
   "outputs": [],
   "source": []
  },
  {
   "cell_type": "code",
   "execution_count": 60,
   "metadata": {
    "collapsed": true,
    "deletable": true,
    "editable": true
   },
   "outputs": [],
   "source": []
  },
  {
   "cell_type": "code",
   "execution_count": 61,
   "metadata": {
    "collapsed": true,
    "deletable": true,
    "editable": true
   },
   "outputs": [],
   "source": []
  },
  {
   "cell_type": "code",
   "execution_count": null,
   "metadata": {
    "collapsed": false,
    "deletable": true,
    "editable": true
   },
   "outputs": [],
   "source": []
  },
  {
   "cell_type": "code",
   "execution_count": null,
   "metadata": {
    "collapsed": false,
    "deletable": true,
    "editable": true
   },
   "outputs": [],
   "source": []
  },
  {
   "cell_type": "code",
   "execution_count": 97,
   "metadata": {
    "collapsed": false,
    "deletable": true,
    "editable": true
   },
   "outputs": [
    {
     "data": {
      "text/plain": [
       "'4O'"
      ]
     },
     "execution_count": 97,
     "metadata": {},
     "output_type": "execute_result"
    }
   ],
   "source": [
    "a = '3ndfo4O'\n",
    "a[len(a)-2:len(a)]"
   ]
  },
  {
   "cell_type": "code",
   "execution_count": null,
   "metadata": {
    "collapsed": true,
    "deletable": true,
    "editable": true
   },
   "outputs": [],
   "source": []
  }
 ],
 "metadata": {
  "kernelspec": {
   "display_name": "Python 3",
   "language": "python",
   "name": "python3"
  },
  "language_info": {
   "codemirror_mode": {
    "name": "ipython",
    "version": 3
   },
   "file_extension": ".py",
   "mimetype": "text/x-python",
   "name": "python",
   "nbconvert_exporter": "python",
   "pygments_lexer": "ipython3",
   "version": "3.6.2"
  }
 },
 "nbformat": 4,
 "nbformat_minor": 2
}
